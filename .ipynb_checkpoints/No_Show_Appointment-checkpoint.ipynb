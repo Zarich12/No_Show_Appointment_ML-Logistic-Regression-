{
 "cells": [
  {
   "cell_type": "markdown",
   "metadata": {},
   "source": [
    "*Author: Zao Richardson Ansah* <br>\n",
    "*Project Date: 3/09/2022 - 6/09/2022*\n",
    "\n",
    "# Project: Appointments \"No Show\" \n",
    "\n",
    "## Table of Contents\n",
    "<ul>\n",
    "<li><a href=\"#intro\">Introduction</a></li>\n",
    "<li><a href=\"#wrangling\">Data Wrangling</a></li>\n",
    "<li><a href=\"#eda\">Exploratory Data Analysis</a></li>\n",
    "<li><a href=\"#conclusions\">Conclusions</a></li>\n",
    "</ul>"
   ]
  },
  {
   "cell_type": "markdown",
   "metadata": {},
   "source": [
    "<a id='intro'></a>\n",
    "## Introduction\n",
    "\n",
    "In this project we will be analyzing the [Appointments No-Show dataset](https://d17h27t6h515a5.cloudfront.net/topher/2017/October/59dd2e9a_noshowappointments-kagglev2-may-2016/noshowappointments-kagglev2-may-2016.csv), based on medical appointments in Brazil. In particularly, we will try to investigate if there are any factors that influence the appointment attendance (independent variable).\n",
    "\n",
    "Here are the research questions that will guide the analysis:\n",
    "\n",
    "1. Does gender impact the attendance?\n",
    "2. Is there a specific age group with higher attendance rate?\n",
    "3. How does the date difference between the scheduled and the appointment day impact the attendance rate? Does same day appointment have a higher attendance rate (which could be viewed as emergency visits)?\n",
    "4. Are there specific neighborhoods associated with higher No-Show?\n",
    "0. Does receiving a scholarship (Bolsa Familia) has any impact on the attendance?\n",
    "5. Does any medical condition impact the attendance rate?\n",
    "6. Does receiving the SMS reminder has any impact on the attendance?\n",
    "8. Is it possible to, based on the available features, predict whether a patient will show up to their scheduled appointment?\n",
    "\n",
    "> **Limitation**: it is important to highlight that, without the proper hypothesis testing techniques, the conclusions based solely on descriptive statistics are merely tentative."
   ]
  },
  {
   "cell_type": "code",
   "execution_count": 1,
   "metadata": {},
   "outputs": [],
   "source": [
    "%matplotlib inline\n",
    "import pandas as pd\n",
    "import numpy as np\n",
    "import matplotlib.pyplot as plt"
   ]
  },
  {
   "cell_type": "markdown",
   "metadata": {},
   "source": [
    "<a id='wrangling'></a>\n",
    "## Data Wrangling"
   ]
  },
  {
   "cell_type": "code",
   "execution_count": 2,
   "metadata": {},
   "outputs": [
    {
     "data": {
      "text/html": [
       "<div>\n",
       "<style scoped>\n",
       "    .dataframe tbody tr th:only-of-type {\n",
       "        vertical-align: middle;\n",
       "    }\n",
       "\n",
       "    .dataframe tbody tr th {\n",
       "        vertical-align: top;\n",
       "    }\n",
       "\n",
       "    .dataframe thead th {\n",
       "        text-align: right;\n",
       "    }\n",
       "</style>\n",
       "<table border=\"1\" class=\"dataframe\">\n",
       "  <thead>\n",
       "    <tr style=\"text-align: right;\">\n",
       "      <th></th>\n",
       "      <th>PatientId</th>\n",
       "      <th>AppointmentID</th>\n",
       "      <th>Gender</th>\n",
       "      <th>ScheduledDay</th>\n",
       "      <th>AppointmentDay</th>\n",
       "      <th>Age</th>\n",
       "      <th>Neighbourhood</th>\n",
       "      <th>Scholarship</th>\n",
       "      <th>Hipertension</th>\n",
       "      <th>Diabetes</th>\n",
       "      <th>Alcoholism</th>\n",
       "      <th>Handcap</th>\n",
       "      <th>SMS_received</th>\n",
       "      <th>No-show</th>\n",
       "    </tr>\n",
       "  </thead>\n",
       "  <tbody>\n",
       "    <tr>\n",
       "      <th>0</th>\n",
       "      <td>2.987250e+13</td>\n",
       "      <td>5642903</td>\n",
       "      <td>F</td>\n",
       "      <td>2016-04-29T18:38:08Z</td>\n",
       "      <td>2016-04-29T00:00:00Z</td>\n",
       "      <td>62</td>\n",
       "      <td>JARDIM DA PENHA</td>\n",
       "      <td>0</td>\n",
       "      <td>1</td>\n",
       "      <td>0</td>\n",
       "      <td>0</td>\n",
       "      <td>0</td>\n",
       "      <td>0</td>\n",
       "      <td>No</td>\n",
       "    </tr>\n",
       "    <tr>\n",
       "      <th>1</th>\n",
       "      <td>5.589978e+14</td>\n",
       "      <td>5642503</td>\n",
       "      <td>M</td>\n",
       "      <td>2016-04-29T16:08:27Z</td>\n",
       "      <td>2016-04-29T00:00:00Z</td>\n",
       "      <td>56</td>\n",
       "      <td>JARDIM DA PENHA</td>\n",
       "      <td>0</td>\n",
       "      <td>0</td>\n",
       "      <td>0</td>\n",
       "      <td>0</td>\n",
       "      <td>0</td>\n",
       "      <td>0</td>\n",
       "      <td>No</td>\n",
       "    </tr>\n",
       "    <tr>\n",
       "      <th>2</th>\n",
       "      <td>4.262962e+12</td>\n",
       "      <td>5642549</td>\n",
       "      <td>F</td>\n",
       "      <td>2016-04-29T16:19:04Z</td>\n",
       "      <td>2016-04-29T00:00:00Z</td>\n",
       "      <td>62</td>\n",
       "      <td>MATA DA PRAIA</td>\n",
       "      <td>0</td>\n",
       "      <td>0</td>\n",
       "      <td>0</td>\n",
       "      <td>0</td>\n",
       "      <td>0</td>\n",
       "      <td>0</td>\n",
       "      <td>No</td>\n",
       "    </tr>\n",
       "  </tbody>\n",
       "</table>\n",
       "</div>"
      ],
      "text/plain": [
       "      PatientId  AppointmentID Gender          ScheduledDay  \\\n",
       "0  2.987250e+13        5642903      F  2016-04-29T18:38:08Z   \n",
       "1  5.589978e+14        5642503      M  2016-04-29T16:08:27Z   \n",
       "2  4.262962e+12        5642549      F  2016-04-29T16:19:04Z   \n",
       "\n",
       "         AppointmentDay  Age    Neighbourhood  Scholarship  Hipertension  \\\n",
       "0  2016-04-29T00:00:00Z   62  JARDIM DA PENHA            0             1   \n",
       "1  2016-04-29T00:00:00Z   56  JARDIM DA PENHA            0             0   \n",
       "2  2016-04-29T00:00:00Z   62    MATA DA PRAIA            0             0   \n",
       "\n",
       "   Diabetes  Alcoholism  Handcap  SMS_received No-show  \n",
       "0         0           0        0             0      No  \n",
       "1         0           0        0             0      No  \n",
       "2         0           0        0             0      No  "
      ]
     },
     "execution_count": 2,
     "metadata": {},
     "output_type": "execute_result"
    }
   ],
   "source": [
    "df = pd.read_csv(\"NoShowAppointment.csv\")\n",
    "df.head(3)"
   ]
  },
  {
   "cell_type": "markdown",
   "metadata": {},
   "source": [
    "First, let's make sure all column names are lower case and separated by underscore:"
   ]
  },
  {
   "cell_type": "code",
   "execution_count": 3,
   "metadata": {},
   "outputs": [
    {
     "data": {
      "text/plain": [
       "Index(['patientid', 'appointmentid', 'gender', 'scheduledday',\n",
       "       'appointmentday', 'age', 'neighbourhood', 'scholarship', 'hipertension',\n",
       "       'diabetes', 'alcoholism', 'handcap', 'sms_received', 'no-show'],\n",
       "      dtype='object')"
      ]
     },
     "execution_count": 3,
     "metadata": {},
     "output_type": "execute_result"
    }
   ],
   "source": [
    "df.columns.str.lower()"
   ]
  },
  {
   "cell_type": "code",
   "execution_count": 4,
   "metadata": {},
   "outputs": [],
   "source": [
    "# Manually editing the col names for readibility and typos\n",
    "df.columns = ['patient_id', 'appointment_id', 'gender', 'scheduled_day',\n",
    "       'appointment_day', 'age', 'neighborhood', 'scholarship', 'hypertension',\n",
    "       'diabetes', 'alcoholism', 'handicap', 'sms_received', 'no_show']"
   ]
  },
  {
   "cell_type": "code",
   "execution_count": 5,
   "metadata": {},
   "outputs": [
    {
     "data": {
      "text/plain": [
       "(110527, 14)"
      ]
     },
     "execution_count": 5,
     "metadata": {},
     "output_type": "execute_result"
    }
   ],
   "source": [
    "# Checking shape of dataset : rows vs cols\n",
    "df.shape"
   ]
  },
  {
   "cell_type": "markdown",
   "metadata": {},
   "source": [
    "This dataset contains 110,527 rows of medical appointment data, with 14 Features."
   ]
  },
  {
   "cell_type": "code",
   "execution_count": 6,
   "metadata": {},
   "outputs": [
    {
     "name": "stdout",
     "output_type": "stream",
     "text": [
      "<class 'pandas.core.frame.DataFrame'>\n",
      "RangeIndex: 110527 entries, 0 to 110526\n",
      "Data columns (total 14 columns):\n",
      " #   Column           Non-Null Count   Dtype  \n",
      "---  ------           --------------   -----  \n",
      " 0   patient_id       110527 non-null  float64\n",
      " 1   appointment_id   110527 non-null  int64  \n",
      " 2   gender           110527 non-null  object \n",
      " 3   scheduled_day    110527 non-null  object \n",
      " 4   appointment_day  110527 non-null  object \n",
      " 5   age              110527 non-null  int64  \n",
      " 6   neighborhood     110527 non-null  object \n",
      " 7   scholarship      110527 non-null  int64  \n",
      " 8   hypertension     110527 non-null  int64  \n",
      " 9   diabetes         110527 non-null  int64  \n",
      " 10  alcoholism       110527 non-null  int64  \n",
      " 11  handicap         110527 non-null  int64  \n",
      " 12  sms_received     110527 non-null  int64  \n",
      " 13  no_show          110527 non-null  object \n",
      "dtypes: float64(1), int64(8), object(5)\n",
      "memory usage: 11.8+ MB\n"
     ]
    }
   ],
   "source": [
    "# Checking missing data and data types\n",
    "df.info()"
   ]
  },
  {
   "cell_type": "markdown",
   "metadata": {},
   "source": [
    "There is no missing data - which is a good thing!\n",
    "\n",
    "We need to fix the data type of some columns:\n",
    "\n",
    "+ **Gender**: String -> Category (M: Male | F: Female)\n",
    "+ **Scheduled Day** / **Appointment Day**: String -> Date\n",
    "+ **No-Show**: String -> Integer (1: Yes | 0: No)"
   ]
  },
  {
   "cell_type": "code",
   "execution_count": 7,
   "metadata": {},
   "outputs": [
    {
     "data": {
      "text/plain": [
       "(0, 48228, 0)"
      ]
     },
     "execution_count": 7,
     "metadata": {},
     "output_type": "execute_result"
    }
   ],
   "source": [
    "# Checking for duplicates\n",
    "df.duplicated().sum() , df.duplicated('patient_id').sum(), df.duplicated('appointment_id').sum()"
   ]
  },
  {
   "cell_type": "markdown",
   "metadata": {},
   "source": [
    "There are no duplicated rows. Although there are 48,228 patients that scheduled more than one appointment. All Appointment IDs are unique values.\n",
    "\n",
    "The columns \"Patient ID\" and \"Appointment ID\" doesn't seem very promising to our analysis, so we can remove them as well:"
   ]
  },
  {
   "cell_type": "code",
   "execution_count": 8,
   "metadata": {},
   "outputs": [],
   "source": [
    "df.drop(['patient_id','appointment_id'],axis=1, inplace=True)"
   ]
  },
  {
   "cell_type": "code",
   "execution_count": 9,
   "metadata": {},
   "outputs": [
    {
     "data": {
      "text/html": [
       "<div>\n",
       "<style scoped>\n",
       "    .dataframe tbody tr th:only-of-type {\n",
       "        vertical-align: middle;\n",
       "    }\n",
       "\n",
       "    .dataframe tbody tr th {\n",
       "        vertical-align: top;\n",
       "    }\n",
       "\n",
       "    .dataframe thead th {\n",
       "        text-align: right;\n",
       "    }\n",
       "</style>\n",
       "<table border=\"1\" class=\"dataframe\">\n",
       "  <thead>\n",
       "    <tr style=\"text-align: right;\">\n",
       "      <th></th>\n",
       "      <th>age</th>\n",
       "      <th>scholarship</th>\n",
       "      <th>hypertension</th>\n",
       "      <th>diabetes</th>\n",
       "      <th>alcoholism</th>\n",
       "      <th>handicap</th>\n",
       "      <th>sms_received</th>\n",
       "    </tr>\n",
       "  </thead>\n",
       "  <tbody>\n",
       "    <tr>\n",
       "      <th>count</th>\n",
       "      <td>110527.000000</td>\n",
       "      <td>110527.000000</td>\n",
       "      <td>110527.000000</td>\n",
       "      <td>110527.000000</td>\n",
       "      <td>110527.000000</td>\n",
       "      <td>110527.000000</td>\n",
       "      <td>110527.000000</td>\n",
       "    </tr>\n",
       "    <tr>\n",
       "      <th>mean</th>\n",
       "      <td>37.088874</td>\n",
       "      <td>0.098266</td>\n",
       "      <td>0.197246</td>\n",
       "      <td>0.071865</td>\n",
       "      <td>0.030400</td>\n",
       "      <td>0.022248</td>\n",
       "      <td>0.321026</td>\n",
       "    </tr>\n",
       "    <tr>\n",
       "      <th>std</th>\n",
       "      <td>23.110205</td>\n",
       "      <td>0.297675</td>\n",
       "      <td>0.397921</td>\n",
       "      <td>0.258265</td>\n",
       "      <td>0.171686</td>\n",
       "      <td>0.161543</td>\n",
       "      <td>0.466873</td>\n",
       "    </tr>\n",
       "    <tr>\n",
       "      <th>min</th>\n",
       "      <td>-1.000000</td>\n",
       "      <td>0.000000</td>\n",
       "      <td>0.000000</td>\n",
       "      <td>0.000000</td>\n",
       "      <td>0.000000</td>\n",
       "      <td>0.000000</td>\n",
       "      <td>0.000000</td>\n",
       "    </tr>\n",
       "    <tr>\n",
       "      <th>25%</th>\n",
       "      <td>18.000000</td>\n",
       "      <td>0.000000</td>\n",
       "      <td>0.000000</td>\n",
       "      <td>0.000000</td>\n",
       "      <td>0.000000</td>\n",
       "      <td>0.000000</td>\n",
       "      <td>0.000000</td>\n",
       "    </tr>\n",
       "    <tr>\n",
       "      <th>50%</th>\n",
       "      <td>37.000000</td>\n",
       "      <td>0.000000</td>\n",
       "      <td>0.000000</td>\n",
       "      <td>0.000000</td>\n",
       "      <td>0.000000</td>\n",
       "      <td>0.000000</td>\n",
       "      <td>0.000000</td>\n",
       "    </tr>\n",
       "    <tr>\n",
       "      <th>75%</th>\n",
       "      <td>55.000000</td>\n",
       "      <td>0.000000</td>\n",
       "      <td>0.000000</td>\n",
       "      <td>0.000000</td>\n",
       "      <td>0.000000</td>\n",
       "      <td>0.000000</td>\n",
       "      <td>1.000000</td>\n",
       "    </tr>\n",
       "    <tr>\n",
       "      <th>max</th>\n",
       "      <td>115.000000</td>\n",
       "      <td>1.000000</td>\n",
       "      <td>1.000000</td>\n",
       "      <td>1.000000</td>\n",
       "      <td>1.000000</td>\n",
       "      <td>4.000000</td>\n",
       "      <td>1.000000</td>\n",
       "    </tr>\n",
       "  </tbody>\n",
       "</table>\n",
       "</div>"
      ],
      "text/plain": [
       "                 age    scholarship   hypertension       diabetes  \\\n",
       "count  110527.000000  110527.000000  110527.000000  110527.000000   \n",
       "mean       37.088874       0.098266       0.197246       0.071865   \n",
       "std        23.110205       0.297675       0.397921       0.258265   \n",
       "min        -1.000000       0.000000       0.000000       0.000000   \n",
       "25%        18.000000       0.000000       0.000000       0.000000   \n",
       "50%        37.000000       0.000000       0.000000       0.000000   \n",
       "75%        55.000000       0.000000       0.000000       0.000000   \n",
       "max       115.000000       1.000000       1.000000       1.000000   \n",
       "\n",
       "          alcoholism       handicap   sms_received  \n",
       "count  110527.000000  110527.000000  110527.000000  \n",
       "mean        0.030400       0.022248       0.321026  \n",
       "std         0.171686       0.161543       0.466873  \n",
       "min         0.000000       0.000000       0.000000  \n",
       "25%         0.000000       0.000000       0.000000  \n",
       "50%         0.000000       0.000000       0.000000  \n",
       "75%         0.000000       0.000000       1.000000  \n",
       "max         1.000000       4.000000       1.000000  "
      ]
     },
     "execution_count": 9,
     "metadata": {},
     "output_type": "execute_result"
    }
   ],
   "source": [
    "df.describe()"
   ]
  },
  {
   "cell_type": "markdown",
   "metadata": {},
   "source": [
    "Looking at the overall description of the data, the column Age seems off: the minimum value is -1, which doesn't make sense. In addition, the maximum value is 115, which seems too high. We need to investigate for possible outlier and remove negative values:"
   ]
  },
  {
   "cell_type": "code",
   "execution_count": 10,
   "metadata": {},
   "outputs": [
    {
     "data": {
      "text/html": [
       "<div>\n",
       "<style scoped>\n",
       "    .dataframe tbody tr th:only-of-type {\n",
       "        vertical-align: middle;\n",
       "    }\n",
       "\n",
       "    .dataframe tbody tr th {\n",
       "        vertical-align: top;\n",
       "    }\n",
       "\n",
       "    .dataframe thead th {\n",
       "        text-align: right;\n",
       "    }\n",
       "</style>\n",
       "<table border=\"1\" class=\"dataframe\">\n",
       "  <thead>\n",
       "    <tr style=\"text-align: right;\">\n",
       "      <th></th>\n",
       "      <th>gender</th>\n",
       "      <th>scheduled_day</th>\n",
       "      <th>appointment_day</th>\n",
       "      <th>age</th>\n",
       "      <th>neighborhood</th>\n",
       "      <th>scholarship</th>\n",
       "      <th>hypertension</th>\n",
       "      <th>diabetes</th>\n",
       "      <th>alcoholism</th>\n",
       "      <th>handicap</th>\n",
       "      <th>sms_received</th>\n",
       "      <th>no_show</th>\n",
       "    </tr>\n",
       "  </thead>\n",
       "  <tbody>\n",
       "    <tr>\n",
       "      <th>99832</th>\n",
       "      <td>F</td>\n",
       "      <td>2016-06-06T08:58:13Z</td>\n",
       "      <td>2016-06-06T00:00:00Z</td>\n",
       "      <td>-1</td>\n",
       "      <td>ROMÃO</td>\n",
       "      <td>0</td>\n",
       "      <td>0</td>\n",
       "      <td>0</td>\n",
       "      <td>0</td>\n",
       "      <td>0</td>\n",
       "      <td>0</td>\n",
       "      <td>No</td>\n",
       "    </tr>\n",
       "  </tbody>\n",
       "</table>\n",
       "</div>"
      ],
      "text/plain": [
       "      gender         scheduled_day       appointment_day  age neighborhood  \\\n",
       "99832      F  2016-06-06T08:58:13Z  2016-06-06T00:00:00Z   -1        ROMÃO   \n",
       "\n",
       "       scholarship  hypertension  diabetes  alcoholism  handicap  \\\n",
       "99832            0             0         0           0         0   \n",
       "\n",
       "       sms_received no_show  \n",
       "99832             0      No  "
      ]
     },
     "execution_count": 10,
     "metadata": {},
     "output_type": "execute_result"
    }
   ],
   "source": [
    "df[df.age < 0]"
   ]
  },
  {
   "cell_type": "code",
   "execution_count": 11,
   "metadata": {},
   "outputs": [
    {
     "name": "stdout",
     "output_type": "stream",
     "text": [
      "Outlier Threshold: 110\n"
     ]
    },
    {
     "data": {
      "text/html": [
       "<div>\n",
       "<style scoped>\n",
       "    .dataframe tbody tr th:only-of-type {\n",
       "        vertical-align: middle;\n",
       "    }\n",
       "\n",
       "    .dataframe tbody tr th {\n",
       "        vertical-align: top;\n",
       "    }\n",
       "\n",
       "    .dataframe thead th {\n",
       "        text-align: right;\n",
       "    }\n",
       "</style>\n",
       "<table border=\"1\" class=\"dataframe\">\n",
       "  <thead>\n",
       "    <tr style=\"text-align: right;\">\n",
       "      <th></th>\n",
       "      <th>gender</th>\n",
       "      <th>scheduled_day</th>\n",
       "      <th>appointment_day</th>\n",
       "      <th>age</th>\n",
       "      <th>neighborhood</th>\n",
       "      <th>scholarship</th>\n",
       "      <th>hypertension</th>\n",
       "      <th>diabetes</th>\n",
       "      <th>alcoholism</th>\n",
       "      <th>handicap</th>\n",
       "      <th>sms_received</th>\n",
       "      <th>no_show</th>\n",
       "    </tr>\n",
       "  </thead>\n",
       "  <tbody>\n",
       "    <tr>\n",
       "      <th>63912</th>\n",
       "      <td>F</td>\n",
       "      <td>2016-05-16T09:17:44Z</td>\n",
       "      <td>2016-05-19T00:00:00Z</td>\n",
       "      <td>115</td>\n",
       "      <td>ANDORINHAS</td>\n",
       "      <td>0</td>\n",
       "      <td>0</td>\n",
       "      <td>0</td>\n",
       "      <td>0</td>\n",
       "      <td>1</td>\n",
       "      <td>0</td>\n",
       "      <td>Yes</td>\n",
       "    </tr>\n",
       "    <tr>\n",
       "      <th>63915</th>\n",
       "      <td>F</td>\n",
       "      <td>2016-05-16T09:17:44Z</td>\n",
       "      <td>2016-05-19T00:00:00Z</td>\n",
       "      <td>115</td>\n",
       "      <td>ANDORINHAS</td>\n",
       "      <td>0</td>\n",
       "      <td>0</td>\n",
       "      <td>0</td>\n",
       "      <td>0</td>\n",
       "      <td>1</td>\n",
       "      <td>0</td>\n",
       "      <td>Yes</td>\n",
       "    </tr>\n",
       "    <tr>\n",
       "      <th>68127</th>\n",
       "      <td>F</td>\n",
       "      <td>2016-04-08T14:29:17Z</td>\n",
       "      <td>2016-05-16T00:00:00Z</td>\n",
       "      <td>115</td>\n",
       "      <td>ANDORINHAS</td>\n",
       "      <td>0</td>\n",
       "      <td>0</td>\n",
       "      <td>0</td>\n",
       "      <td>0</td>\n",
       "      <td>1</td>\n",
       "      <td>0</td>\n",
       "      <td>Yes</td>\n",
       "    </tr>\n",
       "    <tr>\n",
       "      <th>76284</th>\n",
       "      <td>F</td>\n",
       "      <td>2016-05-30T09:44:51Z</td>\n",
       "      <td>2016-05-30T00:00:00Z</td>\n",
       "      <td>115</td>\n",
       "      <td>ANDORINHAS</td>\n",
       "      <td>0</td>\n",
       "      <td>0</td>\n",
       "      <td>0</td>\n",
       "      <td>0</td>\n",
       "      <td>1</td>\n",
       "      <td>0</td>\n",
       "      <td>No</td>\n",
       "    </tr>\n",
       "    <tr>\n",
       "      <th>97666</th>\n",
       "      <td>F</td>\n",
       "      <td>2016-05-19T07:57:56Z</td>\n",
       "      <td>2016-06-03T00:00:00Z</td>\n",
       "      <td>115</td>\n",
       "      <td>SÃO JOSÉ</td>\n",
       "      <td>0</td>\n",
       "      <td>1</td>\n",
       "      <td>0</td>\n",
       "      <td>0</td>\n",
       "      <td>0</td>\n",
       "      <td>1</td>\n",
       "      <td>No</td>\n",
       "    </tr>\n",
       "  </tbody>\n",
       "</table>\n",
       "</div>"
      ],
      "text/plain": [
       "      gender         scheduled_day       appointment_day  age neighborhood  \\\n",
       "63912      F  2016-05-16T09:17:44Z  2016-05-19T00:00:00Z  115   ANDORINHAS   \n",
       "63915      F  2016-05-16T09:17:44Z  2016-05-19T00:00:00Z  115   ANDORINHAS   \n",
       "68127      F  2016-04-08T14:29:17Z  2016-05-16T00:00:00Z  115   ANDORINHAS   \n",
       "76284      F  2016-05-30T09:44:51Z  2016-05-30T00:00:00Z  115   ANDORINHAS   \n",
       "97666      F  2016-05-19T07:57:56Z  2016-06-03T00:00:00Z  115     SÃO JOSÉ   \n",
       "\n",
       "       scholarship  hypertension  diabetes  alcoholism  handicap  \\\n",
       "63912            0             0         0           0         1   \n",
       "63915            0             0         0           0         1   \n",
       "68127            0             0         0           0         1   \n",
       "76284            0             0         0           0         1   \n",
       "97666            0             1         0           0         0   \n",
       "\n",
       "       sms_received no_show  \n",
       "63912             0     Yes  \n",
       "63915             0     Yes  \n",
       "68127             0     Yes  \n",
       "76284             0      No  \n",
       "97666             1      No  "
      ]
     },
     "execution_count": 11,
     "metadata": {},
     "output_type": "execute_result"
    },
    {
     "data": {
      "image/png": "[encoded data removed]",
      "text/plain": [
       "<Figure size 432x288 with 1 Axes>"
      ]
     },
     "metadata": {
      "needs_background": "light"
     },
     "output_type": "display_data"
    }
   ],
   "source": [
    "# Box-plot to visualize threshold for possible outliers\n",
    "df.age.plot(kind='box');\n",
    "iqr = df.age.quantile(0.75) - df.age.quantile(0.25)\n",
    "outlier = df.age.quantile(0.75) + 1.5*iqr\n",
    "print('Outlier Threshold:', int(round(outlier,0)))\n",
    "df[df.age > 110]"
   ]
  },
  {
   "cell_type": "markdown",
   "metadata": {},
   "source": [
    "Looks like there is only one negative entry. And five entries with age greater than the ourlier threshold of 110 years.\n",
    "Let's go ahead and remove them:"
   ]
  },
  {
   "cell_type": "code",
   "execution_count": 12,
   "metadata": {},
   "outputs": [
    {
     "data": {
      "text/plain": [
       "(110521, 12)"
      ]
     },
     "execution_count": 12,
     "metadata": {},
     "output_type": "execute_result"
    }
   ],
   "source": [
    "df = df[(df.age >=0) & (df.age <=110)]\n",
    "df.shape"
   ]
  },
  {
   "cell_type": "markdown",
   "metadata": {},
   "source": [
    "Let's tweak this dataset a little more by renaming the column \"no_show\" as \"attended\", since it is more natural to think of 'yes' as a positive observation.\n",
    "\n",
    "We will rename the column and replace the observations No/Yes with 1/0:\n",
    "\n",
    "> *Obs: since \"attended\" is going to be our dependent variable, storing it as a binary 1/0 will make the analysis easier, because the mean will automatically represent the proportion.*"
   ]
  },
  {
   "cell_type": "code",
   "execution_count": 13,
   "metadata": {},
   "outputs": [
    {
     "data": {
      "text/html": [
       "<div>\n",
       "<style scoped>\n",
       "    .dataframe tbody tr th:only-of-type {\n",
       "        vertical-align: middle;\n",
       "    }\n",
       "\n",
       "    .dataframe tbody tr th {\n",
       "        vertical-align: top;\n",
       "    }\n",
       "\n",
       "    .dataframe thead th {\n",
       "        text-align: right;\n",
       "    }\n",
       "</style>\n",
       "<table border=\"1\" class=\"dataframe\">\n",
       "  <thead>\n",
       "    <tr style=\"text-align: right;\">\n",
       "      <th></th>\n",
       "      <th>gender</th>\n",
       "      <th>scheduled_day</th>\n",
       "      <th>appointment_day</th>\n",
       "      <th>age</th>\n",
       "      <th>neighborhood</th>\n",
       "      <th>scholarship</th>\n",
       "      <th>hypertension</th>\n",
       "      <th>diabetes</th>\n",
       "      <th>alcoholism</th>\n",
       "      <th>handicap</th>\n",
       "      <th>sms_received</th>\n",
       "      <th>attended</th>\n",
       "    </tr>\n",
       "  </thead>\n",
       "  <tbody>\n",
       "    <tr>\n",
       "      <th>0</th>\n",
       "      <td>F</td>\n",
       "      <td>2016-04-29T18:38:08Z</td>\n",
       "      <td>2016-04-29T00:00:00Z</td>\n",
       "      <td>62</td>\n",
       "      <td>JARDIM DA PENHA</td>\n",
       "      <td>0</td>\n",
       "      <td>1</td>\n",
       "      <td>0</td>\n",
       "      <td>0</td>\n",
       "      <td>0</td>\n",
       "      <td>0</td>\n",
       "      <td>1</td>\n",
       "    </tr>\n",
       "  </tbody>\n",
       "</table>\n",
       "</div>"
      ],
      "text/plain": [
       "  gender         scheduled_day       appointment_day  age     neighborhood  \\\n",
       "0      F  2016-04-29T18:38:08Z  2016-04-29T00:00:00Z   62  JARDIM DA PENHA   \n",
       "\n",
       "   scholarship  hypertension  diabetes  alcoholism  handicap  sms_received  \\\n",
       "0            0             1         0           0         0             0   \n",
       "\n",
       "   attended  \n",
       "0         1  "
      ]
     },
     "execution_count": 13,
     "metadata": {},
     "output_type": "execute_result"
    }
   ],
   "source": [
    "df.rename(columns={'no_show': 'attended'}, inplace=True)\n",
    "df.attended.replace(['No', 'Yes'], [1, 0], inplace=True)\n",
    "df.head(1)"
   ]
  },
  {
   "cell_type": "markdown",
   "metadata": {},
   "source": [
    "Good. Our changes look good so far.\n",
    "\n",
    "Now, let's fix the data types:"
   ]
  },
  {
   "cell_type": "code",
   "execution_count": 14,
   "metadata": {},
   "outputs": [],
   "source": [
    "df.gender = df.gender.astype('category')\n",
    "df.scheduled_day = pd.to_datetime(df.scheduled_day)\n",
    "df.appointment_day = pd.to_datetime(df.appointment_day)"
   ]
  },
  {
   "cell_type": "code",
   "execution_count": 15,
   "metadata": {},
   "outputs": [
    {
     "name": "stdout",
     "output_type": "stream",
     "text": [
      "<class 'pandas.core.frame.DataFrame'>\n",
      "Int64Index: 110521 entries, 0 to 110526\n",
      "Data columns (total 12 columns):\n",
      " #   Column           Non-Null Count   Dtype              \n",
      "---  ------           --------------   -----              \n",
      " 0   gender           110521 non-null  category           \n",
      " 1   scheduled_day    110521 non-null  datetime64[ns, UTC]\n",
      " 2   appointment_day  110521 non-null  datetime64[ns, UTC]\n",
      " 3   age              110521 non-null  int64              \n",
      " 4   neighborhood     110521 non-null  object             \n",
      " 5   scholarship      110521 non-null  int64              \n",
      " 6   hypertension     110521 non-null  int64              \n",
      " 7   diabetes         110521 non-null  int64              \n",
      " 8   alcoholism       110521 non-null  int64              \n",
      " 9   handicap         110521 non-null  int64              \n",
      " 10  sms_received     110521 non-null  int64              \n",
      " 11  attended         110521 non-null  int64              \n",
      "dtypes: category(1), datetime64[ns, UTC](2), int64(8), object(1)\n",
      "memory usage: 10.2+ MB\n"
     ]
    }
   ],
   "source": [
    "df.info()"
   ]
  },
  {
   "cell_type": "markdown",
   "metadata": {},
   "source": [
    "There is one last check before moving on to analyze the data: what do the datetime columns look  like?\n",
    "\n",
    "Let's create a new column calculating the difference between the date of the appointment and when it was scheduled:"
   ]
  },
  {
   "cell_type": "code",
   "execution_count": 16,
   "metadata": {},
   "outputs": [
    {
     "data": {
      "text/plain": [
       "count                        110521\n",
       "mean      9 days 17:08:35.550203128\n",
       "std      15 days 05:51:35.542808416\n",
       "min               -7 days +10:10:40\n",
       "25%               -1 days +15:41:32\n",
       "50%                 3 days 11:22:48\n",
       "75%                14 days 07:41:28\n",
       "max               178 days 13:19:01\n",
       "Name: delta_date, dtype: object"
      ]
     },
     "execution_count": 16,
     "metadata": {},
     "output_type": "execute_result"
    }
   ],
   "source": [
    "df['delta_date'] = df.appointment_day - df.scheduled_day\n",
    "df.delta_date.describe()"
   ]
  },
  {
   "cell_type": "markdown",
   "metadata": {},
   "source": [
    "Strange... looks like there are some negative values. We need to further investigate this:"
   ]
  },
  {
   "cell_type": "code",
   "execution_count": 17,
   "metadata": {},
   "outputs": [
    {
     "data": {
      "text/html": [
       "<div>\n",
       "<style scoped>\n",
       "    .dataframe tbody tr th:only-of-type {\n",
       "        vertical-align: middle;\n",
       "    }\n",
       "\n",
       "    .dataframe tbody tr th {\n",
       "        vertical-align: top;\n",
       "    }\n",
       "\n",
       "    .dataframe thead th {\n",
       "        text-align: right;\n",
       "    }\n",
       "</style>\n",
       "<table border=\"1\" class=\"dataframe\">\n",
       "  <thead>\n",
       "    <tr style=\"text-align: right;\">\n",
       "      <th></th>\n",
       "      <th>scheduled_day</th>\n",
       "      <th>appointment_day</th>\n",
       "      <th>delta_date</th>\n",
       "    </tr>\n",
       "  </thead>\n",
       "  <tbody>\n",
       "    <tr>\n",
       "      <th>0</th>\n",
       "      <td>2016-04-29 18:38:08+00:00</td>\n",
       "      <td>2016-04-29 00:00:00+00:00</td>\n",
       "      <td>-1 days +05:21:52</td>\n",
       "    </tr>\n",
       "    <tr>\n",
       "      <th>1</th>\n",
       "      <td>2016-04-29 16:08:27+00:00</td>\n",
       "      <td>2016-04-29 00:00:00+00:00</td>\n",
       "      <td>-1 days +07:51:33</td>\n",
       "    </tr>\n",
       "    <tr>\n",
       "      <th>2</th>\n",
       "      <td>2016-04-29 16:19:04+00:00</td>\n",
       "      <td>2016-04-29 00:00:00+00:00</td>\n",
       "      <td>-1 days +07:40:56</td>\n",
       "    </tr>\n",
       "    <tr>\n",
       "      <th>3</th>\n",
       "      <td>2016-04-29 17:29:31+00:00</td>\n",
       "      <td>2016-04-29 00:00:00+00:00</td>\n",
       "      <td>-1 days +06:30:29</td>\n",
       "    </tr>\n",
       "    <tr>\n",
       "      <th>4</th>\n",
       "      <td>2016-04-29 16:07:23+00:00</td>\n",
       "      <td>2016-04-29 00:00:00+00:00</td>\n",
       "      <td>-1 days +07:52:37</td>\n",
       "    </tr>\n",
       "  </tbody>\n",
       "</table>\n",
       "</div>"
      ],
      "text/plain": [
       "              scheduled_day           appointment_day        delta_date\n",
       "0 2016-04-29 18:38:08+00:00 2016-04-29 00:00:00+00:00 -1 days +05:21:52\n",
       "1 2016-04-29 16:08:27+00:00 2016-04-29 00:00:00+00:00 -1 days +07:51:33\n",
       "2 2016-04-29 16:19:04+00:00 2016-04-29 00:00:00+00:00 -1 days +07:40:56\n",
       "3 2016-04-29 17:29:31+00:00 2016-04-29 00:00:00+00:00 -1 days +06:30:29\n",
       "4 2016-04-29 16:07:23+00:00 2016-04-29 00:00:00+00:00 -1 days +07:52:37"
      ]
     },
     "execution_count": 17,
     "metadata": {},
     "output_type": "execute_result"
    }
   ],
   "source": [
    "# Looking only at negative values\n",
    "df[df.delta_date < pd.Timedelta(0, 'D')][['scheduled_day','appointment_day', 'delta_date']].head()"
   ]
  },
  {
   "cell_type": "markdown",
   "metadata": {},
   "source": [
    "Ok... the -1 day difference can be explained due to the fact that Appointment Day column does not contain information regarding the time of the appointment.\n",
    "\n",
    "For this particular case, we can assume the appointment was actually scheduled on the same day. Let's fix the \"Delta Date\" column to reflect this assumption:"
   ]
  },
  {
   "cell_type": "code",
   "execution_count": 18,
   "metadata": {},
   "outputs": [
    {
     "data": {
      "text/plain": [
       "min      -1 days +03:15:06\n",
       "max      -1 days +17:50:24\n",
       "count                38561\n",
       "Name: delta_date, dtype: object"
      ]
     },
     "execution_count": 18,
     "metadata": {},
     "output_type": "execute_result"
    }
   ],
   "source": [
    "mask = ((df.delta_date <= pd.Timedelta(0, 'D')) & (df.delta_date >= pd.Timedelta(-1, 'D')))\n",
    "df[mask].delta_date.aggregate([min,max, 'count']) # 38562 occurrences of value: -1 day"
   ]
  },
  {
   "cell_type": "code",
   "execution_count": 19,
   "metadata": {},
   "outputs": [
    {
     "data": {
      "text/html": [
       "<div>\n",
       "<style scoped>\n",
       "    .dataframe tbody tr th:only-of-type {\n",
       "        vertical-align: middle;\n",
       "    }\n",
       "\n",
       "    .dataframe tbody tr th {\n",
       "        vertical-align: top;\n",
       "    }\n",
       "\n",
       "    .dataframe thead th {\n",
       "        text-align: right;\n",
       "    }\n",
       "</style>\n",
       "<table border=\"1\" class=\"dataframe\">\n",
       "  <thead>\n",
       "    <tr style=\"text-align: right;\">\n",
       "      <th></th>\n",
       "      <th>gender</th>\n",
       "      <th>scheduled_day</th>\n",
       "      <th>appointment_day</th>\n",
       "      <th>age</th>\n",
       "      <th>neighborhood</th>\n",
       "      <th>scholarship</th>\n",
       "      <th>hypertension</th>\n",
       "      <th>diabetes</th>\n",
       "      <th>alcoholism</th>\n",
       "      <th>handicap</th>\n",
       "      <th>sms_received</th>\n",
       "      <th>attended</th>\n",
       "      <th>delta_date</th>\n",
       "    </tr>\n",
       "  </thead>\n",
       "  <tbody>\n",
       "    <tr>\n",
       "      <th>0</th>\n",
       "      <td>F</td>\n",
       "      <td>2016-04-29 18:38:08+00:00</td>\n",
       "      <td>2016-04-29 00:00:00+00:00</td>\n",
       "      <td>62</td>\n",
       "      <td>JARDIM DA PENHA</td>\n",
       "      <td>0</td>\n",
       "      <td>1</td>\n",
       "      <td>0</td>\n",
       "      <td>0</td>\n",
       "      <td>0</td>\n",
       "      <td>0</td>\n",
       "      <td>1</td>\n",
       "      <td>0 days</td>\n",
       "    </tr>\n",
       "    <tr>\n",
       "      <th>1</th>\n",
       "      <td>M</td>\n",
       "      <td>2016-04-29 16:08:27+00:00</td>\n",
       "      <td>2016-04-29 00:00:00+00:00</td>\n",
       "      <td>56</td>\n",
       "      <td>JARDIM DA PENHA</td>\n",
       "      <td>0</td>\n",
       "      <td>0</td>\n",
       "      <td>0</td>\n",
       "      <td>0</td>\n",
       "      <td>0</td>\n",
       "      <td>0</td>\n",
       "      <td>1</td>\n",
       "      <td>0 days</td>\n",
       "    </tr>\n",
       "    <tr>\n",
       "      <th>2</th>\n",
       "      <td>F</td>\n",
       "      <td>2016-04-29 16:19:04+00:00</td>\n",
       "      <td>2016-04-29 00:00:00+00:00</td>\n",
       "      <td>62</td>\n",
       "      <td>MATA DA PRAIA</td>\n",
       "      <td>0</td>\n",
       "      <td>0</td>\n",
       "      <td>0</td>\n",
       "      <td>0</td>\n",
       "      <td>0</td>\n",
       "      <td>0</td>\n",
       "      <td>1</td>\n",
       "      <td>0 days</td>\n",
       "    </tr>\n",
       "    <tr>\n",
       "      <th>3</th>\n",
       "      <td>F</td>\n",
       "      <td>2016-04-29 17:29:31+00:00</td>\n",
       "      <td>2016-04-29 00:00:00+00:00</td>\n",
       "      <td>8</td>\n",
       "      <td>PONTAL DE CAMBURI</td>\n",
       "      <td>0</td>\n",
       "      <td>0</td>\n",
       "      <td>0</td>\n",
       "      <td>0</td>\n",
       "      <td>0</td>\n",
       "      <td>0</td>\n",
       "      <td>1</td>\n",
       "      <td>0 days</td>\n",
       "    </tr>\n",
       "    <tr>\n",
       "      <th>4</th>\n",
       "      <td>F</td>\n",
       "      <td>2016-04-29 16:07:23+00:00</td>\n",
       "      <td>2016-04-29 00:00:00+00:00</td>\n",
       "      <td>56</td>\n",
       "      <td>JARDIM DA PENHA</td>\n",
       "      <td>0</td>\n",
       "      <td>1</td>\n",
       "      <td>1</td>\n",
       "      <td>0</td>\n",
       "      <td>0</td>\n",
       "      <td>0</td>\n",
       "      <td>1</td>\n",
       "      <td>0 days</td>\n",
       "    </tr>\n",
       "  </tbody>\n",
       "</table>\n",
       "</div>"
      ],
      "text/plain": [
       "  gender             scheduled_day           appointment_day  age  \\\n",
       "0      F 2016-04-29 18:38:08+00:00 2016-04-29 00:00:00+00:00   62   \n",
       "1      M 2016-04-29 16:08:27+00:00 2016-04-29 00:00:00+00:00   56   \n",
       "2      F 2016-04-29 16:19:04+00:00 2016-04-29 00:00:00+00:00   62   \n",
       "3      F 2016-04-29 17:29:31+00:00 2016-04-29 00:00:00+00:00    8   \n",
       "4      F 2016-04-29 16:07:23+00:00 2016-04-29 00:00:00+00:00   56   \n",
       "\n",
       "        neighborhood  scholarship  hypertension  diabetes  alcoholism  \\\n",
       "0    JARDIM DA PENHA            0             1         0           0   \n",
       "1    JARDIM DA PENHA            0             0         0           0   \n",
       "2      MATA DA PRAIA            0             0         0           0   \n",
       "3  PONTAL DE CAMBURI            0             0         0           0   \n",
       "4    JARDIM DA PENHA            0             1         1           0   \n",
       "\n",
       "   handicap  sms_received  attended delta_date  \n",
       "0         0             0         1     0 days  \n",
       "1         0             0         1     0 days  \n",
       "2         0             0         1     0 days  \n",
       "3         0             0         1     0 days  \n",
       "4         0             0         1     0 days  "
      ]
     },
     "execution_count": 19,
     "metadata": {},
     "output_type": "execute_result"
    }
   ],
   "source": [
    "# Replacing values based on condition\n",
    "df.loc[mask, 'delta_date'] = pd.Timedelta(0, 'D')\n",
    "df[mask].head()"
   ]
  },
  {
   "cell_type": "code",
   "execution_count": 20,
   "metadata": {},
   "outputs": [
    {
     "data": {
      "text/plain": [
       "min      0 days 00:00:00\n",
       "max      0 days 00:00:00\n",
       "count              38561\n",
       "Name: delta_date, dtype: object"
      ]
     },
     "execution_count": 20,
     "metadata": {},
     "output_type": "execute_result"
    }
   ],
   "source": [
    "# Checking for correct replacement\n",
    "df[mask].delta_date.aggregate([min,max, 'count'])"
   ]
  },
  {
   "cell_type": "markdown",
   "metadata": {},
   "source": [
    "The alteration on column Delta Date was successful: we substituted 38,562 entries from -1 days to 0 day - representing same day appointment.\n",
    "\n",
    "But we still need to check the other negative values:"
   ]
  },
  {
   "cell_type": "code",
   "execution_count": 21,
   "metadata": {},
   "outputs": [
    {
     "data": {
      "text/html": [
       "<div>\n",
       "<style scoped>\n",
       "    .dataframe tbody tr th:only-of-type {\n",
       "        vertical-align: middle;\n",
       "    }\n",
       "\n",
       "    .dataframe tbody tr th {\n",
       "        vertical-align: top;\n",
       "    }\n",
       "\n",
       "    .dataframe thead th {\n",
       "        text-align: right;\n",
       "    }\n",
       "</style>\n",
       "<table border=\"1\" class=\"dataframe\">\n",
       "  <thead>\n",
       "    <tr style=\"text-align: right;\">\n",
       "      <th></th>\n",
       "      <th>gender</th>\n",
       "      <th>scheduled_day</th>\n",
       "      <th>appointment_day</th>\n",
       "      <th>age</th>\n",
       "      <th>neighborhood</th>\n",
       "      <th>scholarship</th>\n",
       "      <th>hypertension</th>\n",
       "      <th>diabetes</th>\n",
       "      <th>alcoholism</th>\n",
       "      <th>handicap</th>\n",
       "      <th>sms_received</th>\n",
       "      <th>attended</th>\n",
       "      <th>delta_date</th>\n",
       "    </tr>\n",
       "  </thead>\n",
       "  <tbody>\n",
       "    <tr>\n",
       "      <th>27033</th>\n",
       "      <td>M</td>\n",
       "      <td>2016-05-10 10:51:53+00:00</td>\n",
       "      <td>2016-05-09 00:00:00+00:00</td>\n",
       "      <td>38</td>\n",
       "      <td>RESISTÊNCIA</td>\n",
       "      <td>0</td>\n",
       "      <td>0</td>\n",
       "      <td>0</td>\n",
       "      <td>0</td>\n",
       "      <td>1</td>\n",
       "      <td>0</td>\n",
       "      <td>0</td>\n",
       "      <td>-2 days +13:08:07</td>\n",
       "    </tr>\n",
       "    <tr>\n",
       "      <th>55226</th>\n",
       "      <td>F</td>\n",
       "      <td>2016-05-18 14:50:41+00:00</td>\n",
       "      <td>2016-05-17 00:00:00+00:00</td>\n",
       "      <td>19</td>\n",
       "      <td>SANTO ANTÔNIO</td>\n",
       "      <td>0</td>\n",
       "      <td>0</td>\n",
       "      <td>0</td>\n",
       "      <td>0</td>\n",
       "      <td>1</td>\n",
       "      <td>0</td>\n",
       "      <td>0</td>\n",
       "      <td>-2 days +09:09:19</td>\n",
       "    </tr>\n",
       "    <tr>\n",
       "      <th>64175</th>\n",
       "      <td>F</td>\n",
       "      <td>2016-05-05 13:43:58+00:00</td>\n",
       "      <td>2016-05-04 00:00:00+00:00</td>\n",
       "      <td>22</td>\n",
       "      <td>CONSOLAÇÃO</td>\n",
       "      <td>0</td>\n",
       "      <td>0</td>\n",
       "      <td>0</td>\n",
       "      <td>0</td>\n",
       "      <td>0</td>\n",
       "      <td>0</td>\n",
       "      <td>0</td>\n",
       "      <td>-2 days +10:16:02</td>\n",
       "    </tr>\n",
       "    <tr>\n",
       "      <th>71533</th>\n",
       "      <td>F</td>\n",
       "      <td>2016-05-11 13:49:20+00:00</td>\n",
       "      <td>2016-05-05 00:00:00+00:00</td>\n",
       "      <td>81</td>\n",
       "      <td>SANTO ANTÔNIO</td>\n",
       "      <td>0</td>\n",
       "      <td>0</td>\n",
       "      <td>0</td>\n",
       "      <td>0</td>\n",
       "      <td>0</td>\n",
       "      <td>0</td>\n",
       "      <td>0</td>\n",
       "      <td>-7 days +10:10:40</td>\n",
       "    </tr>\n",
       "    <tr>\n",
       "      <th>72362</th>\n",
       "      <td>M</td>\n",
       "      <td>2016-05-04 06:50:57+00:00</td>\n",
       "      <td>2016-05-03 00:00:00+00:00</td>\n",
       "      <td>7</td>\n",
       "      <td>TABUAZEIRO</td>\n",
       "      <td>0</td>\n",
       "      <td>0</td>\n",
       "      <td>0</td>\n",
       "      <td>0</td>\n",
       "      <td>0</td>\n",
       "      <td>0</td>\n",
       "      <td>0</td>\n",
       "      <td>-2 days +17:09:03</td>\n",
       "    </tr>\n",
       "  </tbody>\n",
       "</table>\n",
       "</div>"
      ],
      "text/plain": [
       "      gender             scheduled_day           appointment_day  age  \\\n",
       "27033      M 2016-05-10 10:51:53+00:00 2016-05-09 00:00:00+00:00   38   \n",
       "55226      F 2016-05-18 14:50:41+00:00 2016-05-17 00:00:00+00:00   19   \n",
       "64175      F 2016-05-05 13:43:58+00:00 2016-05-04 00:00:00+00:00   22   \n",
       "71533      F 2016-05-11 13:49:20+00:00 2016-05-05 00:00:00+00:00   81   \n",
       "72362      M 2016-05-04 06:50:57+00:00 2016-05-03 00:00:00+00:00    7   \n",
       "\n",
       "        neighborhood  scholarship  hypertension  diabetes  alcoholism  \\\n",
       "27033    RESISTÊNCIA            0             0         0           0   \n",
       "55226  SANTO ANTÔNIO            0             0         0           0   \n",
       "64175     CONSOLAÇÃO            0             0         0           0   \n",
       "71533  SANTO ANTÔNIO            0             0         0           0   \n",
       "72362     TABUAZEIRO            0             0         0           0   \n",
       "\n",
       "       handicap  sms_received  attended        delta_date  \n",
       "27033         1             0         0 -2 days +13:08:07  \n",
       "55226         1             0         0 -2 days +09:09:19  \n",
       "64175         0             0         0 -2 days +10:16:02  \n",
       "71533         0             0         0 -7 days +10:10:40  \n",
       "72362         0             0         0 -2 days +17:09:03  "
      ]
     },
     "execution_count": 21,
     "metadata": {},
     "output_type": "execute_result"
    }
   ],
   "source": [
    "df[df.delta_date < pd.Timedelta(0,'D')]"
   ]
  },
  {
   "cell_type": "markdown",
   "metadata": {},
   "source": [
    "There are 4 entries with negative two days and 1 entry with negative seven days. Since we can't come up with a reasonable explanation for these cases, we will remove them from the dataset:"
   ]
  },
  {
   "cell_type": "code",
   "execution_count": 22,
   "metadata": {},
   "outputs": [
    {
     "data": {
      "text/plain": [
       "(110521, 13)"
      ]
     },
     "execution_count": 22,
     "metadata": {},
     "output_type": "execute_result"
    }
   ],
   "source": [
    "df.shape"
   ]
  },
  {
   "cell_type": "code",
   "execution_count": 23,
   "metadata": {},
   "outputs": [
    {
     "data": {
      "text/plain": [
       "(110516, 13)"
      ]
     },
     "execution_count": 23,
     "metadata": {},
     "output_type": "execute_result"
    }
   ],
   "source": [
    "df = df[df.delta_date >= pd.Timedelta(0,'D')]\n",
    "df.shape"
   ]
  },
  {
   "cell_type": "markdown",
   "metadata": {},
   "source": [
    "We completed the data cleaning process and transformation, ending up with 110,521 observations and 13 columns.\n",
    "\n",
    "Now we are finally ready to start investigating and exploring our dataset!"
   ]
  },
  {
   "cell_type": "markdown",
   "metadata": {},
   "source": [
    "<a id='eda'></a>\n",
    "## Exploratory Data Analysis"
   ]
  },
  {
   "cell_type": "markdown",
   "metadata": {},
   "source": [
    "### Dataset Description"
   ]
  },
  {
   "cell_type": "code",
   "execution_count": 24,
   "metadata": {},
   "outputs": [
    {
     "data": {
      "text/plain": [
       "scholarship     0.10\n",
       "hypertension    0.20\n",
       "diabetes        0.07\n",
       "alcoholism      0.03\n",
       "handicap        0.02\n",
       "sms_received    0.32\n",
       "attended        0.80\n",
       "dtype: float64"
      ]
     },
     "execution_count": 24,
     "metadata": {},
     "output_type": "execute_result"
    }
   ],
   "source": [
    "# Quickly obtaining proportions for the binary features\n",
    "ref = ['scholarship', 'hypertension','diabetes', 'alcoholism', 'handicap',\n",
    "       'sms_received', 'attended']\n",
    "df[ref].mean().round(2)"
   ]
  },
  {
   "cell_type": "code",
   "execution_count": 25,
   "metadata": {},
   "outputs": [
    {
     "data": {
      "text/plain": [
       "gender\n",
       "F    0.65\n",
       "M    0.35\n",
       "dtype: float64"
      ]
     },
     "execution_count": 25,
     "metadata": {},
     "output_type": "execute_result"
    }
   ],
   "source": [
    "(df.groupby('gender').size() / df.shape[0]).round(2)"
   ]
  },
  {
   "cell_type": "markdown",
   "metadata": {},
   "source": [
    "Looking at the proportion of the binary features we can see that, for this sample:\n",
    "+ There is almost 2 times more female than male patients;\n",
    "+ Around 10% of patients receive the Scholarship ('Bolsa Familia');\n",
    "+ About 20% of patients suffer from hypertension;\n",
    "+ 7% of patients have diabetes;\n",
    "+ Only 3% suffer from alcoholism;\n",
    "+ Around 2% are handicapped;\n",
    "+ Roughly a third of patients have received the SMS reminder;\n",
    "* Almost 80% of all patients did show up to their scheduled appointment."
   ]
  },
  {
   "cell_type": "code",
   "execution_count": 26,
   "metadata": {},
   "outputs": [
    {
     "data": {
      "image/png": "[encoded data removed]",
      "text/plain": [
       "<Figure size 432x288 with 1 Axes>"
      ]
     },
     "metadata": {
      "needs_background": "light"
     },
     "output_type": "display_data"
    }
   ],
   "source": [
    "df.age.plot(kind='hist',bins=10)\n",
    "plt.title('Age Histogram');"
   ]
  },
  {
   "cell_type": "code",
   "execution_count": 27,
   "metadata": {},
   "outputs": [
    {
     "data": {
      "image/png": "[encoded data removed]",
      "text/plain": [
       "<Figure size 432x288 with 1 Axes>"
      ]
     },
     "metadata": {
      "needs_background": "light"
     },
     "output_type": "display_data"
    }
   ],
   "source": [
    "pd.crosstab(df.age, df.gender).plot(style=['or','ob'], alpha=0.8);\n",
    "plt.title('Age Frequency by Gender')\n",
    "plt.ylabel('Frequency');"
   ]
  },
  {
   "cell_type": "markdown",
   "metadata": {},
   "source": [
    "Looking at the Age histogram with a higher number of bins (more granularity), we can see there are basically three age groups with higher frequency than the others: there is a peak for very young patients; another one at around 30-35 years; and the last one around 45-55 years.\n",
    "\n",
    "The second peak seems to be formed due to a high frequency of females, whereas the third peak has contribution of both male and female, given their proportions in the dataset."
   ]
  },
  {
   "cell_type": "code",
   "execution_count": 28,
   "metadata": {},
   "outputs": [
    {
     "data": {
      "image/png": "[encoded data removed]",
      "text/plain": [
       "<Figure size 432x288 with 1 Axes>"
      ]
     },
     "metadata": {
      "needs_background": "light"
     },
     "output_type": "display_data"
    }
   ],
   "source": [
    "# interval of delta days to be plotted\n",
    "df['delta_weeks'] = pd.cut(df.delta_date, [pd.Timedelta(i, 'D') for i in range(0,90,7)])\n",
    "delta_proportion_weeks = df.groupby('delta_weeks').size() / df.shape[0]\n",
    "\n",
    "delta_proportion_weeks.cumsum().plot(style='k--', label='CumSum')\n",
    "\n",
    "delta_proportion_weeks.plot(kind='bar', color='xkcd:blue', alpha=0.8, label='_No')\n",
    "plt.title('Proportion of Scheduling [in Weeks]')\n",
    "plt.xticks(range(12), ['Week {}'.format(x) for x in range(1,13)])\n",
    "plt.ylabel('Proportion of Appointments Scheduled')\n",
    "plt.legend();\n",
    "\n",
    "# print(delta_proportion_weeks.round(2))"
   ]
  },
  {
   "cell_type": "markdown",
   "metadata": {},
   "source": [
    "The majority of appointments are scheduled 5 weeks in advance (around 60%), being almost half of these made within 1 week from the actual appointment. Let's further investigate what it looks like for the first 2 weeks:"
   ]
  },
  {
   "cell_type": "code",
   "execution_count": 29,
   "metadata": {},
   "outputs": [
    {
     "name": "stdout",
     "output_type": "stream",
     "text": [
      "delta_days\n",
      "(0 days 00:00:00, 1 days 00:00:00]      0.05\n",
      "(1 days 00:00:00, 2 days 00:00:00]      0.06\n",
      "(2 days 00:00:00, 3 days 00:00:00]      0.02\n",
      "(3 days 00:00:00, 4 days 00:00:00]      0.05\n",
      "(4 days 00:00:00, 5 days 00:00:00]      0.03\n",
      "(5 days 00:00:00, 6 days 00:00:00]      0.04\n",
      "(6 days 00:00:00, 7 days 00:00:00]      0.04\n",
      "(7 days 00:00:00, 8 days 00:00:00]      0.02\n",
      "(8 days 00:00:00, 9 days 00:00:00]      0.01\n",
      "(9 days 00:00:00, 10 days 00:00:00]     0.01\n",
      "(10 days 00:00:00, 11 days 00:00:00]    0.01\n",
      "(11 days 00:00:00, 12 days 00:00:00]    0.01\n",
      "(12 days 00:00:00, 13 days 00:00:00]    0.02\n",
      "(13 days 00:00:00, 14 days 00:00:00]    0.03\n",
      "dtype: float64\n"
     ]
    },
    {
     "data": {
      "image/png": "[encoded data removed]",
      "text/plain": [
       "<Figure size 432x288 with 1 Axes>"
      ]
     },
     "metadata": {
      "needs_background": "light"
     },
     "output_type": "display_data"
    }
   ],
   "source": [
    "# interval of delta days to be plotted: 14 days\n",
    "df['delta_days'] = pd.cut(df.delta_date, [pd.Timedelta(i, 'D') for i in range(0,15)])\n",
    "\n",
    "delta_proportion_days = df.groupby('delta_days').size() / df.shape[0]\n",
    "\n",
    "delta_proportion_days.plot(kind='bar', color='xkcd:blue', alpha=0.8)\n",
    "plt.title('Proportion of Scheduling [first 14 days]')\n",
    "plt.xticks(range(14), ['Day {}'.format(x) for x in range(1,15)])\n",
    "plt.ylabel('Proportion of Appointments Scheduled')\n",
    "\n",
    "print(delta_proportion_days.round(2))"
   ]
  },
  {
   "cell_type": "markdown",
   "metadata": {},
   "source": [
    "There is no clear pattern for the proportion of appointments scheduled within 14 days in advance.\n",
    "Same day appointments - assumed to be \"Emergency\" ones - represent only 5% of the sample."
   ]
  },
  {
   "cell_type": "markdown",
   "metadata": {},
   "source": [
    "### Research Questions"
   ]
  },
  {
   "cell_type": "markdown",
   "metadata": {},
   "source": [
    "Since we are interested in investigating the correlation between a specific variable and the final outcome (show vs no-show), it is worth writing a function that will be used multiple times.\n",
    "\n",
    "The function will cross reference the desired variable against the final outcome (column Attended), normalizing the result between Yes-Attended and No-Attended and plotting a bar chart with the respective title and labels:"
   ]
  },
  {
   "cell_type": "code",
   "execution_count": 30,
   "metadata": {},
   "outputs": [],
   "source": [
    "def proportion_attendance(feature):\n",
    "    pd.crosstab(df[feature], df.attended, normalize='columns').plot(kind='bar', alpha=0.85)\n",
    "    plt.xlabel('Feature: {}'.format(feature.replace('_',' ').title()))\n",
    "    plt.ylabel('Proportion')\n",
    "    plt.title('Proportion of Attendance Rate by {}'.format(feature.replace('_',' ').title()))\n",
    "    plt.margins(y=0.1)\n",
    "    return plt # this allows for eventual further formatting tweaks"
   ]
  },
  {
   "cell_type": "markdown",
   "metadata": {},
   "source": [
    "### Q1) Does gender impact the attendance?"
   ]
  },
  {
   "cell_type": "code",
   "execution_count": 31,
   "metadata": {},
   "outputs": [
    {
     "data": {
      "image/png": "[encoded data removed]",
      "text/plain": [
       "<Figure size 432x288 with 1 Axes>"
      ]
     },
     "metadata": {
      "needs_background": "light"
     },
     "output_type": "display_data"
    }
   ],
   "source": [
    "proportion_attendance('gender');"
   ]
  },
  {
   "cell_type": "markdown",
   "metadata": {},
   "source": [
    "There is no clear evidence that gender have any influence on whether or not the patient is going to show up for their scheduled appointment."
   ]
  },
  {
   "cell_type": "markdown",
   "metadata": {},
   "source": [
    "### Q2) Is there a specific age group with higher attendance rate?"
   ]
  },
  {
   "cell_type": "markdown",
   "metadata": {},
   "source": [
    "Since the age distribution is so spread out, let's transform this numeric variable into age groups - representing $10^{th} $ percentile each - to further investigate this question:"
   ]
  },
  {
   "cell_type": "code",
   "execution_count": 32,
   "metadata": {},
   "outputs": [
    {
     "data": {
      "image/png": "[encoded data removed]",
      "text/plain": [
       "<Figure size 432x288 with 1 Axes>"
      ]
     },
     "metadata": {
      "needs_background": "light"
     },
     "output_type": "display_data"
    }
   ],
   "source": [
    "df['age_groups'] = pd.qcut(df.age, 10)\n",
    "proportion_attendance('age_groups');"
   ]
  },
  {
   "cell_type": "markdown",
   "metadata": {},
   "source": [
    "It looks like age does have some influence over attendance rate. We can clearly see that patients between 5 and 44 years old seem to be less likely to show up, whereas patients older than 45 seem to be more likely to attend their scheduled appointment. It is also possible to see that patients younger than 5 years old tend to be slightly more likely to attend.\n",
    "\n",
    "Since the age groups present a distinctively proportion of attendance rate, we can create dummy variables (Hot-One encoded) to capture their influence in the classification model. We will tackle this step later."
   ]
  },
  {
   "cell_type": "markdown",
   "metadata": {},
   "source": [
    "### Q3) Does date difference between the scheduled and the appointment day impact the attendance rate? \n",
    "\n",
    "Here we are particularly interested in investigating if there is evidence of any pattern that influence attendance rate. For example, one might wonder whether same day appointments have a higher attendance rate, since they could be viewed as surrogate for emergency visits?"
   ]
  },
  {
   "cell_type": "code",
   "execution_count": 33,
   "metadata": {},
   "outputs": [
    {
     "data": {
      "image/png": "[encoded data removed]",
      "text/plain": [
       "<Figure size 432x288 with 1 Axes>"
      ]
     },
     "metadata": {
      "needs_background": "light"
     },
     "output_type": "display_data"
    }
   ],
   "source": [
    "proportion_attendance('delta_days')\n",
    "plt.xticks(range(14), ['Day {}'.format(i) for i in range(1,15)]);"
   ]
  },
  {
   "cell_type": "markdown",
   "metadata": {},
   "source": [
    "It looks like the difference between appointment and scheduled dates have some influence over the attendance rate. We can clearly see that appointments scheduled within 4 days in advance seem to be more likely to show up: these could be interpreted as \"same week appointments\".\n",
    "\n",
    "In contrast, those scheduled longer than 7 days in advance tend to be less likely to attend.\n",
    "\n",
    "Since the attendance rate doesn't vary significantly for all delta days, perhaps it would be more meaningful to create 2 dummy variables, representing: appointments scheduled within 4 days in advance, and longer than 7 days in advance."
   ]
  },
  {
   "cell_type": "code",
   "execution_count": 34,
   "metadata": {},
   "outputs": [
    {
     "name": "stdout",
     "output_type": "stream",
     "text": [
      "min      0 days 00:00:00\n",
      "max      4 days 17:24:06\n",
      "count              61801\n",
      "Name: delta_date, dtype: object\n",
      "min        7 days 03:36:35\n",
      "max      178 days 13:19:01\n",
      "count                39772\n",
      "Name: delta_date, dtype: object\n"
     ]
    }
   ],
   "source": [
    "# Checking for correct filtering\n",
    "print(df[df.delta_date < pd.Timedelta(5,'D')].delta_date.aggregate([min,max, 'count']))\n",
    "print(df[df.delta_date > pd.Timedelta(7,'D')].delta_date.aggregate([min,max, 'count']))"
   ]
  },
  {
   "cell_type": "code",
   "execution_count": 35,
   "metadata": {},
   "outputs": [],
   "source": [
    "# Create 2 new features to represent if appointment scheduled <= 4 and > 7 days in advance\n",
    "df['reg_up_4days'] = np.where( df.delta_date < pd.Timedelta(5,'D') , 1, 0)\n",
    "df['reg_more_7days'] = np.where( df.delta_date > pd.Timedelta(8,'D') , 1, 0)"
   ]
  },
  {
   "cell_type": "markdown",
   "metadata": {},
   "source": [
    "### Q4) Are there specific neighborhoods associated with higher No-Show?"
   ]
  },
  {
   "cell_type": "code",
   "execution_count": 36,
   "metadata": {},
   "outputs": [
    {
     "data": {
      "text/html": [
       "<div>\n",
       "<style scoped>\n",
       "    .dataframe tbody tr th:only-of-type {\n",
       "        vertical-align: middle;\n",
       "    }\n",
       "\n",
       "    .dataframe tbody tr th {\n",
       "        vertical-align: top;\n",
       "    }\n",
       "\n",
       "    .dataframe thead th {\n",
       "        text-align: right;\n",
       "    }\n",
       "</style>\n",
       "<table border=\"1\" class=\"dataframe\">\n",
       "  <thead>\n",
       "    <tr style=\"text-align: right;\">\n",
       "      <th></th>\n",
       "      <th>count</th>\n",
       "      <th>mean</th>\n",
       "    </tr>\n",
       "    <tr>\n",
       "      <th>neighborhood</th>\n",
       "      <th></th>\n",
       "      <th></th>\n",
       "    </tr>\n",
       "  </thead>\n",
       "  <tbody>\n",
       "    <tr>\n",
       "      <th>PARQUE INDUSTRIAL</th>\n",
       "      <td>1</td>\n",
       "      <td>1.000000</td>\n",
       "    </tr>\n",
       "    <tr>\n",
       "      <th>ILHA DO BOI</th>\n",
       "      <td>35</td>\n",
       "      <td>0.914286</td>\n",
       "    </tr>\n",
       "    <tr>\n",
       "      <th>AEROPORTO</th>\n",
       "      <td>8</td>\n",
       "      <td>0.875000</td>\n",
       "    </tr>\n",
       "    <tr>\n",
       "      <th>MÁRIO CYPRESTE</th>\n",
       "      <td>371</td>\n",
       "      <td>0.854447</td>\n",
       "    </tr>\n",
       "    <tr>\n",
       "      <th>SOLON BORGES</th>\n",
       "      <td>469</td>\n",
       "      <td>0.852878</td>\n",
       "    </tr>\n",
       "  </tbody>\n",
       "</table>\n",
       "</div>"
      ],
      "text/plain": [
       "                   count      mean\n",
       "neighborhood                      \n",
       "PARQUE INDUSTRIAL      1  1.000000\n",
       "ILHA DO BOI           35  0.914286\n",
       "AEROPORTO              8  0.875000\n",
       "MÁRIO CYPRESTE       371  0.854447\n",
       "SOLON BORGES         469  0.852878"
      ]
     },
     "execution_count": 36,
     "metadata": {},
     "output_type": "execute_result"
    }
   ],
   "source": [
    "df.pivot_table('attended', index='neighborhood', aggfunc=('mean', 'count'))\\\n",
    "    .sort_values(by='mean', ascending=False).head()"
   ]
  },
  {
   "cell_type": "markdown",
   "metadata": {},
   "source": [
    "At first glance, we can identify some neighborhoods with high attendance rate... but it is important to take into consideration the representativeness of that data. It would be biased to infer the attendance rate of specific neighborhoods based only on the observations of few patients from that specific location (such as Parque Industrial with 100% attendance rate, but only 1 patient).\n",
    "\n",
    "Therefore, for this particular research questions, let's work only with neighborhoods where the count is equal or greater than the median count of all neighborhoods. Let's call this subset $Neighborhood^*$:"
   ]
  },
  {
   "cell_type": "code",
   "execution_count": 37,
   "metadata": {},
   "outputs": [],
   "source": [
    "# count of all neighborhoods\n",
    "neighb_count = df.groupby('neighborhood').size()\n",
    "\n",
    "# subset, keeping only counts >= the median\n",
    "neighb_subset = neighb_count[neighb_count >= neighb_count.median()]\n",
    "\n",
    "# new dataframe, filtered to the previous subset\n",
    "df2 = df.query('neighborhood in {}'.format(list(neighb_subset.index)))"
   ]
  },
  {
   "cell_type": "code",
   "execution_count": 38,
   "metadata": {},
   "outputs": [
    {
     "data": {
      "image/png": "[encoded data removed]",
      "text/plain": [
       "<Figure size 1080x360 with 1 Axes>"
      ]
     },
     "metadata": {
      "needs_background": "light"
     },
     "output_type": "display_data"
    }
   ],
   "source": [
    "pd.crosstab(df2.neighborhood, df2.attended, normalize='columns')\\\n",
    ".apply(lambda x: abs(x[0] - x[1]), axis=1).sort_values(ascending=False)\\\n",
    ".plot(kind='bar', figsize=(15,5), color='royalblue');\n",
    "plt.axvline(5.5, color='r', linestyle=':')\n",
    "plt.ylabel('Abs difference [Attendance Rate Yes-No]')\n",
    "plt.title('Absolute difference between Attendance Rate per Neighborhood');"
   ]
  },
  {
   "cell_type": "markdown",
   "metadata": {},
   "source": [
    "We can clearly see there are six neighborhoods with distinctively different proportion of attendance rate. Since the difference is absolute, we don't know yet which locations have positive or negative impact:"
   ]
  },
  {
   "cell_type": "code",
   "execution_count": 39,
   "metadata": {},
   "outputs": [
    {
     "data": {
      "image/png": "[encoded data removed]",
      "text/plain": [
       "<Figure size 432x288 with 1 Axes>"
      ]
     },
     "metadata": {
      "needs_background": "light"
     },
     "output_type": "display_data"
    }
   ],
   "source": [
    "ref = ['ITARARÉ', 'JARDIM DA PENHA', 'SANTA MARTHA', 'JESUS DE NAZARETH', \n",
    "       'SANTOS DUMONT', 'JARDIM CAMBURI']\n",
    "df2 = df2.query('neighborhood in @ref')\n",
    "\n",
    "pd.crosstab(df2.neighborhood, df2.attended, normalize='columns')\\\n",
    ".sort_values(by=df2.attended[1], ascending=False).plot(kind='bar');\n",
    "plt.ylabel('Proportion')\n",
    "plt.title('Proportion of Attendance Rate by Top 6 Neighborhood*');"
   ]
  },
  {
   "cell_type": "markdown",
   "metadata": {},
   "source": [
    "It looks like patients from Group 1 (Jardim Camburi, Jardim da Penha, Santa Martha) tend to be more likely to show up, whereas those from Group 2 (Itararé, Jesus de Nazareth, Santos Dumont) are less likely.\n",
    "\n",
    "Perhaps it would be more meaningful for the classification model to create two dummy variables capturing if a patient resides in one of these two groups. We can compare their significance afterwards:\n",
    "+ **Group 1** (Jardim Camburi, Jardim da Penha, Santa Martha): More likely to show up\n",
    "+ **Group 2** (Itararé, Jesus de Nazareth, Santos Dumont): Less likely to show up\n",
    "\n",
    ">Let's create two new features to represent whether a patient is from one of the neighborhoods in Group 1 or Group 2. This will be useful when implementing a regression model."
   ]
  },
  {
   "cell_type": "code",
   "execution_count": 40,
   "metadata": {},
   "outputs": [],
   "source": [
    "# Creating 2 new features to capture the impact of these groups\n",
    "group1 = ['JARDIM CAMBURI', 'JARDIM DA PENHA', 'SANTA MARTHA']\n",
    "group2 = [ 'ITARARÉ', 'JESUS DE NAZARETH', 'SANTOS DUMONT']\n",
    "\n",
    "# Excel like function to set value based on condition\n",
    "df['reg_neighb_group1'] = np.where(np.isin(df.neighborhood, group1), 1, 0)\n",
    "df['reg_neighb_group2'] = np.where(np.isin(df.neighborhood, group2), 1, 0)"
   ]
  },
  {
   "cell_type": "markdown",
   "metadata": {},
   "source": [
    "### Q5) Does receiving a scholarship (Bolsa Familia) has any impact on the attendance?"
   ]
  },
  {
   "cell_type": "code",
   "execution_count": 41,
   "metadata": {},
   "outputs": [
    {
     "data": {
      "image/png": "[encoded data removed]",
      "text/plain": [
       "<Figure size 432x288 with 1 Axes>"
      ]
     },
     "metadata": {
      "needs_background": "light"
     },
     "output_type": "display_data"
    }
   ],
   "source": [
    "proportion_attendance('scholarship');"
   ]
  },
  {
   "cell_type": "markdown",
   "metadata": {},
   "source": [
    "Looks like there is a small, but consistent, difference in the proportion of attendance rate based on receiving scholarship \"Bolsa Familia\". Patients who receive seem less likely to show up, wheres those who do not receive the governmental assistance benefit seem slightly more likely to attend their scheduled appointment.\n",
    "\n",
    "We can use this variable as a possible explanatory variable in our classification model."
   ]
  },
  {
   "cell_type": "markdown",
   "metadata": {},
   "source": [
    "### Q6) Does any medical condition impact the attendance rate?"
   ]
  },
  {
   "cell_type": "code",
   "execution_count": 42,
   "metadata": {},
   "outputs": [
    {
     "data": {
      "image/png": "[encoded data removed]",
      "text/plain": [
       "<Figure size 432x288 with 1 Axes>"
      ]
     },
     "metadata": {
      "needs_background": "light"
     },
     "output_type": "display_data"
    }
   ],
   "source": [
    "ref_list = ['hypertension', 'diabetes', 'alcoholism', 'handicap']\n",
    "\n",
    "proportion_attendance('hypertension');"
   ]
  },
  {
   "cell_type": "code",
   "execution_count": 43,
   "metadata": {},
   "outputs": [
    {
     "data": {
      "image/png": "[encoded data removed]",
      "text/plain": [
       "<Figure size 432x288 with 1 Axes>"
      ]
     },
     "metadata": {
      "needs_background": "light"
     },
     "output_type": "display_data"
    }
   ],
   "source": [
    "proportion_attendance('diabetes');"
   ]
  },
  {
   "cell_type": "markdown",
   "metadata": {},
   "source": [
    "Both **Hypertension** and **Diabetes** seem to have an impact on attendance rate, where <u>patients with these medical conditions are more likely to show up</u>. We can later use these variables in the classification model."
   ]
  },
  {
   "cell_type": "code",
   "execution_count": 44,
   "metadata": {},
   "outputs": [
    {
     "data": {
      "image/png": "[encoded data removed]",
      "text/plain": [
       "<Figure size 432x288 with 1 Axes>"
      ]
     },
     "metadata": {
      "needs_background": "light"
     },
     "output_type": "display_data"
    }
   ],
   "source": [
    "proportion_attendance('alcoholism');"
   ]
  },
  {
   "cell_type": "code",
   "execution_count": 45,
   "metadata": {},
   "outputs": [
    {
     "data": {
      "image/png": "[encoded data removed]",
      "text/plain": [
       "<Figure size 432x288 with 1 Axes>"
      ]
     },
     "metadata": {
      "needs_background": "light"
     },
     "output_type": "display_data"
    }
   ],
   "source": [
    "proportion_attendance('handicap');"
   ]
  },
  {
   "cell_type": "markdown",
   "metadata": {},
   "source": [
    "On the other hand, neither **Alcoholism** nor **Handicap** seem to have <u>any impact over the attendance rate</u>. We should not use these variables to model appointment attendance probability."
   ]
  },
  {
   "cell_type": "markdown",
   "metadata": {},
   "source": [
    "### Q7) Does receiving the SMS reminder has any impact on the attendance?"
   ]
  },
  {
   "cell_type": "code",
   "execution_count": 46,
   "metadata": {},
   "outputs": [
    {
     "data": {
      "image/png": "[encoded data removed]",
      "text/plain": [
       "<Figure size 432x288 with 1 Axes>"
      ]
     },
     "metadata": {
      "needs_background": "light"
     },
     "output_type": "display_data"
    }
   ],
   "source": [
    "proportion_attendance('sms_received');"
   ]
  },
  {
   "cell_type": "markdown",
   "metadata": {},
   "source": [
    "Looks like the attendance rate of patients that received the SMS reminder is quite different than those who did not receive. But the interpretation of the observed effect doesn't make sense. It isn't reasonable that a patient would change their mind and decide not to go to their scheduled appointment after receiving the SMS reminder.\n",
    "\n",
    "In this case, even though there is evidence this variable impact the attendance rate, <u>we should ignore it due to lack of explainability</u>."
   ]
  },
  {
   "cell_type": "markdown",
   "metadata": {},
   "source": [
    "### Q8) Is it possible to, based on the available features, predict whether a patient will show up to their scheduled appointment?"
   ]
  },
  {
   "cell_type": "markdown",
   "metadata": {},
   "source": [
    "Since our response is a binary variable containing data coded as 1 (yes/success) and 0 (no/failure), we can implement the classification algorithm: Logistic Regression. The model predicts the probability (between 0 and 100%) of the dependent variable as a function of the features.\n",
    "\n",
    "> The following procedures were based on the very well written Medium Post from Susan Li, entitled [Building a Logistic Regression in Python, step-by-step](https://towardsdatascience.com/building-a-logistic-regression-in-python-step-by-step-becd4d56c9c8)."
   ]
  },
  {
   "cell_type": "code",
   "execution_count": 47,
   "metadata": {},
   "outputs": [
    {
     "name": "stdout",
     "output_type": "stream",
     "text": [
      "Percentage of Attended: 0.80 | Percentage of No-Show: 0.20\n",
      "Ratio: 4:1\n"
     ]
    }
   ],
   "source": [
    "# Checking proportion of Attended: Yes/1 vs No/0\n",
    "prop_attended = df.attended.mean()\n",
    "prop_no_show = 1 - prop_attended\n",
    "ratio = prop_attended / prop_no_show\n",
    "\n",
    "print('Percentage of Attended: {:.2f} | Percentage of No-Show: {:.2f}'\\\n",
    "      .format(prop_attended, prop_no_show))\n",
    "print('Ratio: {:.0f}:1'.format(ratio))"
   ]
  },
  {
   "cell_type": "markdown",
   "metadata": {},
   "source": [
    "The classes are imbalanced with a ratio of 4:1 of Attended vs No-Show. \n",
    "\n",
    "In order to avoid overfit our model estimation, we need to balance the classes by Over-Sampling the training data (otherwise it would be biased toward predicting Yes/Attended, since it would be right 4 out of 5 times). \n",
    "\n",
    "Let's use the [SMOTE algorithm](https://arxiv.org/pdf/1106.1813.pdf) (Synthetic Minority Oversampling Technique).\n",
    "\n",
    ">As described on the post by Susan Li, this algorithm can be understood, at a high level, as it:\n",
    "+ Works by creating synthetic samples from the minor class (in this case, No-Attended) instead of creating copies.\n",
    "+ Randomly chooses one of the *k-nearest-neighbors* and uses it to create a similar, but randomly tweaked, new observations.\n",
    "\n",
    "To quote Susan's observation:\n",
    "> *\"... by <mark>oversampling only on the training data</mark>, none of the information in the test data is being used to create synthetic observations, therefore, no information will 'bleed' from the test data into the model training.\"*"
   ]
  },
  {
   "cell_type": "markdown",
   "metadata": {},
   "source": [
    "First, let's create the dummy variables for the features showing potential of being good predictors for out model. We will do so by using a native Pandas function:"
   ]
  },
  {
   "cell_type": "code",
   "execution_count": 48,
   "metadata": {
    "scrolled": true
   },
   "outputs": [],
   "source": [
    "# Creating Dummy Variables for categories in Age_Groups\n",
    "dummy = pd.get_dummies(df['age_groups'], prefix='age_gr')\n",
    "df = df.join(dummy)"
   ]
  },
  {
   "cell_type": "code",
   "execution_count": 49,
   "metadata": {},
   "outputs": [
    {
     "data": {
      "text/plain": [
       "Index(['gender', 'scheduled_day', 'appointment_day', 'age', 'neighborhood',\n",
       "       'scholarship', 'hypertension', 'diabetes', 'alcoholism', 'handicap',\n",
       "       'sms_received', 'attended', 'delta_date', 'delta_weeks', 'delta_days',\n",
       "       'age_groups', 'reg_up_4days', 'reg_more_7days', 'reg_neighb_group1',\n",
       "       'reg_neighb_group2', 'age_gr_(-0.001, 5.0]', 'age_gr_(5.0, 13.0]',\n",
       "       'age_gr_(13.0, 21.0]', 'age_gr_(21.0, 30.0]', 'age_gr_(30.0, 37.0]',\n",
       "       'age_gr_(37.0, 45.0]', 'age_gr_(45.0, 52.0]', 'age_gr_(52.0, 59.0]',\n",
       "       'age_gr_(59.0, 68.0]', 'age_gr_(68.0, 102.0]'],\n",
       "      dtype='object')"
      ]
     },
     "execution_count": 49,
     "metadata": {},
     "output_type": "execute_result"
    }
   ],
   "source": [
    "# Checking if dummy variables were created correctly\n",
    "df.columns"
   ]
  },
  {
   "cell_type": "code",
   "execution_count": 50,
   "metadata": {},
   "outputs": [],
   "source": [
    "# Keeping only NUMERICAL and potential predictors for model regression\n",
    "to_keep = ['scholarship', 'hypertension', 'diabetes', 'reg_up_4days', 'reg_more_7days',\n",
    "           'reg_neighb_group1','reg_neighb_group2', 'age_gr_(-0.001, 5.0]', 'age_gr_(5.0, 13.0]',\n",
    "           'age_gr_(13.0, 21.0]', 'age_gr_(21.0, 30.0]', 'age_gr_(30.0, 37.0]',\n",
    "           'age_gr_(37.0, 45.0]','age_gr_(45.0, 52.0]', 'age_gr_(52.0, 59.0]',\n",
    "           'age_gr_(59.0, 68.0]', 'age_gr_(68.0, 102.0]']\n",
    "\n",
    "df_model = df[to_keep]"
   ]
  },
  {
   "cell_type": "code",
   "execution_count": 51,
   "metadata": {
    "scrolled": true
   },
   "outputs": [],
   "source": [
    "# Balancing response classes with Over-sampling (SMOTE algorithm)\n",
    "from sklearn.model_selection import train_test_split\n",
    "from imblearn.over_sampling import SMOTE\n",
    "\n",
    "X = df_model # features\n",
    "y = df['attended'] # response\n",
    "\n",
    "# randomly splitting a proportion of dataset into train/test subsets\n",
    "X_train, X_test, y_train, y_test = train_test_split(X, y, test_size=0.3, random_state=0)\n",
    "columns = X_train.columns\n",
    "\n",
    "# generating synthetic samples only for training dataset\n",
    "os = SMOTE(random_state=0)\n",
    "os_data_X, os_data_y = os.fit_resample(X_train, y_train)\n",
    "\n",
    "# storing them back as dataframes\n",
    "X_train = pd.DataFrame(data=os_data_X, columns=columns)\n",
    "y_train = pd.DataFrame(data=os_data_y, columns=['attended'])"
   ]
  },
  {
   "cell_type": "code",
   "execution_count": 52,
   "metadata": {},
   "outputs": [
    {
     "name": "stdout",
     "output_type": "stream",
     "text": [
      "Length of oversampled data: 123356\n",
      "Number of Attended: 61678\n",
      "Number of No-Show: 61678\n",
      "Percentage of Attended: 0.50 | Percentage of No-Show: 0.50\n",
      "Ratio of Response in oversampled data: 1:1\n"
     ]
    }
   ],
   "source": [
    "# Checking the classes in oversampled data\n",
    "prop_attended = y_train.attended.mean()\n",
    "prop_no_show = 1 - prop_attended\n",
    "ratio = prop_attended / prop_no_show\n",
    "\n",
    "print(\"Length of oversampled data:\",len(X_train))\n",
    "print(\"Number of Attended:\", len(y_train.query('attended == 1')))\n",
    "print(\"Number of No-Show:\", len(y_train.query('attended == 0')))\n",
    "print('Percentage of Attended: {:.2f} | Percentage of No-Show: {:.2f}'\\\n",
    "      .format(prop_attended, prop_no_show) )\n",
    "print('Ratio of Response in oversampled data: {:.0f}:1'.format(ratio))"
   ]
  },
  {
   "cell_type": "code",
   "execution_count": 53,
   "metadata": {},
   "outputs": [
    {
     "name": "stdout",
     "output_type": "stream",
     "text": [
      "Synthetic Training Sample | Total rows: 123356 | # Yes-Attended: 61678 | # No-Attended: 61678\n",
      "     Original Sample      | Total rows: 110516 | # Yes-Attended: 88205 | # No-Attended: 22311\n"
     ]
    }
   ],
   "source": [
    "print('Synthetic Training Sample | Total rows: {} | # Yes-Attended: {} | # No-Attended: {}'.\\\n",
    "      format(len(X_train), y_train.attended.sum(), len(y_train) - y_train.attended.sum()))\n",
    "\n",
    "print('     Original Sample      | Total rows: {} | # Yes-Attended: {} | # No-Attended: {}'.\\\n",
    "      format(len(X), y.sum(), len(y) - y.sum()))"
   ]
  },
  {
   "cell_type": "markdown",
   "metadata": {},
   "source": [
    "Now that our training data (shuffled 70% of dataset) has a balanced proportion of the outcome (Attend), we can use it to train our classification model without overfitting it.\n",
    "\n",
    "We can apply a feature selection method to identify the most significant features from our extensive list of possible candidates. \n",
    "\n",
    "But the method described in the post ([**Recursive Feature Elimination**](https://scikit-learn.org/stable/modules/generated/sklearn.feature_selection.RFE.html)) has a limitation: it requires the scientist to arbitrarily set the final number of predictors! Which kind of defeats the purpose of finding the most significant ones.\n",
    "\n",
    "Instead, we are going to implement a variation of such method, the [**Recursive Feature Elimination with Cross Validation**](https://scikit-learn.org/stable/modules/generated/sklearn.feature_selection.RFECV.html#sklearn.feature_selection.RFECV): it recursively build models, identifying the best and worst performing features, setting then aside and continuing the process with the remaining features until they all have been evaluated. It ranks the best performing features, while using Cross-Validation to select the best number of predictors.\n",
    "\n",
    "Let's apply the **RFECV** method using a Logit function as the estimator, removing only 1 feature at a time, and using 5-fold cross-validation:"
   ]
  },
  {
   "cell_type": "code",
   "execution_count": 54,
   "metadata": {},
   "outputs": [],
   "source": [
    "# transform y_train into array of shape (n,) - as required to fit the model\n",
    "y_train = y_train.attended"
   ]
  },
  {
   "cell_type": "code",
   "execution_count": 55,
   "metadata": {},
   "outputs": [],
   "source": [
    "# Applying RFE with Cross Validation\n",
    "from sklearn.feature_selection import RFECV\n",
    "from sklearn.linear_model import LogisticRegression\n",
    "\n",
    "logit = LogisticRegression(solver='liblinear')\n",
    "\n",
    "rfeCV = RFECV(logit, step=1,cv=5, n_jobs=-1)\n",
    "rfeCV = rfeCV.fit(X_train, y_train)\n",
    "# print(rfeCV.support_)"
   ]
  },
  {
   "cell_type": "code",
   "execution_count": 56,
   "metadata": {},
   "outputs": [
    {
     "name": "stdout",
     "output_type": "stream",
     "text": [
      "scholarship\n",
      "diabetes\n",
      "reg_up_4days\n",
      "reg_more_7days\n",
      "reg_neighb_group1\n",
      "reg_neighb_group2\n",
      "age_gr_(5.0, 13.0]\n",
      "age_gr_(13.0, 21.0]\n",
      "age_gr_(21.0, 30.0]\n",
      "age_gr_(30.0, 37.0]\n",
      "age_gr_(37.0, 45.0]\n",
      "age_gr_(59.0, 68.0]\n",
      "age_gr_(68.0, 102.0]\n"
     ]
    }
   ],
   "source": [
    "top_predictors = [k for k,v in zip(X_train.columns, rfeCV.support_) if v == True]\n",
    "[print(i) for i in top_predictors]; # 12 or 7 predictors"
   ]
  },
  {
   "cell_type": "markdown",
   "metadata": {},
   "source": [
    "Let's filter the training sample to include only the top performing features identified by the RFECV method:"
   ]
  },
  {
   "cell_type": "code",
   "execution_count": 57,
   "metadata": {},
   "outputs": [],
   "source": [
    "X_train = X_train[top_predictors]"
   ]
  },
  {
   "cell_type": "markdown",
   "metadata": {},
   "source": [
    "Let's fit a Logistic Regression model in order to evaluate the significance of the identified features. We will do so using <code>statsmodels</code> since it has a more detailed result summary:"
   ]
  },
  {
   "cell_type": "code",
   "execution_count": 58,
   "metadata": {},
   "outputs": [
    {
     "name": "stdout",
     "output_type": "stream",
     "text": [
      "Optimization terminated successfully.\n",
      "         Current function value: 0.642914\n",
      "         Iterations 5\n",
      "                           Results: Logit\n",
      "=====================================================================\n",
      "Model:               Logit             Pseudo R-squared:  0.072      \n",
      "Dependent Variable:  attended          AIC:               158640.6321\n",
      "Date:                2022-09-06 13:40  BIC:               158767.0288\n",
      "No. Observations:    123356            Log-Likelihood:    -79307.    \n",
      "Df Model:            12                LL-Null:           -85504.    \n",
      "Df Residuals:        123343            LLR p-value:       0.0000     \n",
      "Converged:           1.0000            Scale:             1.0000     \n",
      "No. Iterations:      5.0000                                          \n",
      "---------------------------------------------------------------------\n",
      "                      Coef.  Std.Err.    z     P>|z|   [0.025  0.975]\n",
      "---------------------------------------------------------------------\n",
      "scholarship          -0.1754   0.0198  -8.8422 0.0000 -0.2143 -0.1365\n",
      "diabetes             -0.1571   0.0250  -6.2959 0.0000 -0.2061 -0.1082\n",
      "reg_up_4days          0.8360   0.0124  67.1531 0.0000  0.8116  0.8604\n",
      "reg_more_7days       -0.4350   0.0127 -34.1217 0.0000 -0.4600 -0.4100\n",
      "reg_neighb_group1     0.1151   0.0183   6.2768 0.0000  0.0791  0.1510\n",
      "reg_neighb_group2    -0.2341   0.0230 -10.1565 0.0000 -0.2793 -0.1889\n",
      "age_gr_(5.0, 13.0]   -0.3296   0.0212 -15.5692 0.0000 -0.3710 -0.2881\n",
      "age_gr_(13.0, 21.0]  -0.4974   0.0204 -24.4401 0.0000 -0.5373 -0.4575\n",
      "age_gr_(21.0, 30.0]  -0.4222   0.0195 -21.6670 0.0000 -0.4604 -0.3840\n",
      "age_gr_(30.0, 37.0]  -0.2170   0.0212 -10.2571 0.0000 -0.2584 -0.1755\n",
      "age_gr_(37.0, 45.0]  -0.2345   0.0206 -11.3684 0.0000 -0.2750 -0.1941\n",
      "age_gr_(59.0, 68.0]   0.1013   0.0225   4.5094 0.0000  0.0573  0.1453\n",
      "age_gr_(68.0, 102.0]  0.1294   0.0234   5.5260 0.0000  0.0835  0.1753\n",
      "=====================================================================\n",
      "\n"
     ]
    }
   ],
   "source": [
    "# Logistic Regression - Evaluating Features using statsmodels (better result summary)\n",
    "import statsmodels.api as sm\n",
    "\n",
    "logit = sm.Logit(y_train, X_train)\n",
    "result = logit.fit()\n",
    "print(result.summary2())"
   ]
  },
  {
   "cell_type": "markdown",
   "metadata": {},
   "source": [
    "All variables presented p-value smaller than the significance level of 5%. This means the **RFECV** did a good job selecting the best performing features.\n",
    "\n"
   ]
  },
  {
   "cell_type": "code",
   "execution_count": null,
   "metadata": {},
   "outputs": [],
   "source": []
  },
  {
   "cell_type": "code",
   "execution_count": null,
   "metadata": {},
   "outputs": [],
   "source": []
  },
  {
   "cell_type": "markdown",
   "metadata": {},
   "source": [
    "After the third round, the model looks good. All features have p-value less than significance level of 5%, meaning they are significant.\n",
    "\n",
    "Also, the coefficients have the correct expected signal, as mentioned through the analysis."
   ]
  },
  {
   "cell_type": "markdown",
   "metadata": {},
   "source": [
    "### Odd's Ratio\n",
    "We can interpret the Odd's ratio by calculating $exp(coef.)$:\n",
    ">**Obs**: it is necessary to correct the Odd's Ratio for values where $exp(coef.) < 1$. By inverting, we transform it into the regular proportion/ratio form, but it is necessary to add a negative sign, since it has an inverted effect."
   ]
  },
  {
   "cell_type": "code",
   "execution_count": 59,
   "metadata": {},
   "outputs": [
    {
     "data": {
      "text/html": [
       "<div>\n",
       "<style scoped>\n",
       "    .dataframe tbody tr th:only-of-type {\n",
       "        vertical-align: middle;\n",
       "    }\n",
       "\n",
       "    .dataframe tbody tr th {\n",
       "        vertical-align: top;\n",
       "    }\n",
       "\n",
       "    .dataframe thead th {\n",
       "        text-align: right;\n",
       "    }\n",
       "</style>\n",
       "<table border=\"1\" class=\"dataframe\">\n",
       "  <thead>\n",
       "    <tr style=\"text-align: right;\">\n",
       "      <th></th>\n",
       "      <th>Coefficient</th>\n",
       "      <th>Odds Ratio</th>\n",
       "      <th>Ranking</th>\n",
       "    </tr>\n",
       "  </thead>\n",
       "  <tbody>\n",
       "    <tr>\n",
       "      <th>2</th>\n",
       "      <td>reg_up_4days</td>\n",
       "      <td>2.3</td>\n",
       "      <td>1</td>\n",
       "    </tr>\n",
       "    <tr>\n",
       "      <th>7</th>\n",
       "      <td>age_gr_(13.0, 21.0]</td>\n",
       "      <td>-1.6</td>\n",
       "      <td>2</td>\n",
       "    </tr>\n",
       "    <tr>\n",
       "      <th>3</th>\n",
       "      <td>reg_more_7days</td>\n",
       "      <td>-1.5</td>\n",
       "      <td>3</td>\n",
       "    </tr>\n",
       "    <tr>\n",
       "      <th>8</th>\n",
       "      <td>age_gr_(21.0, 30.0]</td>\n",
       "      <td>-1.5</td>\n",
       "      <td>3</td>\n",
       "    </tr>\n",
       "    <tr>\n",
       "      <th>6</th>\n",
       "      <td>age_gr_(5.0, 13.0]</td>\n",
       "      <td>-1.4</td>\n",
       "      <td>4</td>\n",
       "    </tr>\n",
       "    <tr>\n",
       "      <th>5</th>\n",
       "      <td>reg_neighb_group2</td>\n",
       "      <td>-1.3</td>\n",
       "      <td>5</td>\n",
       "    </tr>\n",
       "    <tr>\n",
       "      <th>10</th>\n",
       "      <td>age_gr_(37.0, 45.0]</td>\n",
       "      <td>-1.3</td>\n",
       "      <td>5</td>\n",
       "    </tr>\n",
       "    <tr>\n",
       "      <th>0</th>\n",
       "      <td>scholarship</td>\n",
       "      <td>-1.2</td>\n",
       "      <td>6</td>\n",
       "    </tr>\n",
       "    <tr>\n",
       "      <th>1</th>\n",
       "      <td>diabetes</td>\n",
       "      <td>-1.2</td>\n",
       "      <td>6</td>\n",
       "    </tr>\n",
       "    <tr>\n",
       "      <th>9</th>\n",
       "      <td>age_gr_(30.0, 37.0]</td>\n",
       "      <td>-1.2</td>\n",
       "      <td>6</td>\n",
       "    </tr>\n",
       "    <tr>\n",
       "      <th>4</th>\n",
       "      <td>reg_neighb_group1</td>\n",
       "      <td>1.1</td>\n",
       "      <td>7</td>\n",
       "    </tr>\n",
       "    <tr>\n",
       "      <th>11</th>\n",
       "      <td>age_gr_(59.0, 68.0]</td>\n",
       "      <td>1.1</td>\n",
       "      <td>7</td>\n",
       "    </tr>\n",
       "    <tr>\n",
       "      <th>12</th>\n",
       "      <td>age_gr_(68.0, 102.0]</td>\n",
       "      <td>1.1</td>\n",
       "      <td>7</td>\n",
       "    </tr>\n",
       "  </tbody>\n",
       "</table>\n",
       "</div>"
      ],
      "text/plain": [
       "             Coefficient  Odds Ratio  Ranking\n",
       "2           reg_up_4days         2.3        1\n",
       "7    age_gr_(13.0, 21.0]        -1.6        2\n",
       "3         reg_more_7days        -1.5        3\n",
       "8    age_gr_(21.0, 30.0]        -1.5        3\n",
       "6     age_gr_(5.0, 13.0]        -1.4        4\n",
       "5      reg_neighb_group2        -1.3        5\n",
       "10   age_gr_(37.0, 45.0]        -1.3        5\n",
       "0            scholarship        -1.2        6\n",
       "1               diabetes        -1.2        6\n",
       "9    age_gr_(30.0, 37.0]        -1.2        6\n",
       "4      reg_neighb_group1         1.1        7\n",
       "11   age_gr_(59.0, 68.0]         1.1        7\n",
       "12  age_gr_(68.0, 102.0]         1.1        7"
      ]
     },
     "execution_count": 59,
     "metadata": {},
     "output_type": "execute_result"
    }
   ],
   "source": [
    "coefficients = list(result.params.values)\n",
    "odds_ratio = np.exp(coefficients)\n",
    "\n",
    "# Correcting Odds Ratio for values <1\n",
    "odds_ratio = [i if i >= 1 else -1/i for i in odds_ratio]\n",
    "\n",
    "df_odds_ratio = pd.DataFrame({'Coefficient':top_predictors , 'Odds Ratio': odds_ratio})\n",
    "df_odds_ratio['Odds Ratio'] = df_odds_ratio['Odds Ratio'].round(1)\n",
    "\n",
    "import scipy.stats as ss\n",
    "df_odds_ratio['Ranking'] = ss.rankdata([-1 * abs(i) for i in df_odds_ratio['Odds Ratio']],\n",
    "                                       method='dense')\n",
    "df_odds_ratio.sort_values(by='Ranking')"
   ]
  },
  {
   "cell_type": "markdown",
   "metadata": {},
   "source": [
    "Here is the Odd's Ratio interpretation, ordered by the features with the most impact over the attendance likelihood:\n",
    "\n",
    "1. Appointments scheduled less than 4 days in advance are 2.3 times more likely to attend;\n",
    "2. Patients between the ages of 13 and 21 years old were 1.6 times <u>less likely</u> to show up;\n",
    "3. Tied in third place being 1.5 times less likely to show up:\n",
    "    - <mark>Appointments scheduled more than 7 days in advance</mark>\n",
    "    - <mark>Patients between the ages of 21 and 30 years</mark>\n",
    "4. Patients wwithin the ages of 5 to 13 years were 1.4 times <u>less likely</u> to show up;\n",
    "   - Patients residing in one of the neighborhoods in **Group 2** *(Jesus de Nazareth, Itarare, Santos Dumont)*\n",
    "\n",
    "5. Tied in fifth place being 1.3 times more likely to show up:\n",
    "    - <mark> - Patients residing in one of the neighborhoods in **Group 2** *(Jesus de Nazareth, Itarare, Santos Dumont)*</mark>\n",
    "    - <mark>Patients between age 37 and 45 years </mark>\n",
    "    \n",
    "6. Tied in sixth place, being 1.2 times <u>less likely</u> to show up:\n",
    "    - Patients participating in the governmental assistance program (scholarship: *Bolsa Familia*)\n",
    "    - Patients with diabetes\n",
    "    - Patients between the ages of 30 to 37 years\n",
    "7. Tied in seventh place, being 1.1 times more likely to show up to their scheduled appointment:\n",
    "    - Patients residing in one of the neighborhoods in **Group 1** *(Santa Martha, Jardim da Penha, Vila Rubim)* are 1.1 times more likely  to attend.\n",
    "    - <mark>Patients between 59 and 68 years old</mark>\n",
    "    - <mark>Patients between 68 and 102 years old</mark>\n"
   ]
  },
  {
   "cell_type": "markdown",
   "metadata": {},
   "source": [
    "### Model Performance\n",
    "Ok, now we are ready to evaluate the performance of our Logit Model:"
   ]
  },
  {
   "cell_type": "code",
   "execution_count": 60,
   "metadata": {},
   "outputs": [
    {
     "data": {
      "text/html": [
       "<style>#sk-container-id-1 {color: black;background-color: white;}#sk-container-id-1 pre{padding: 0;}#sk-container-id-1 div.sk-toggleable {background-color: white;}#sk-container-id-1 label.sk-toggleable__label {cursor: pointer;display: block;width: 100%;margin-bottom: 0;padding: 0.3em;box-sizing: border-box;text-align: center;}#sk-container-id-1 label.sk-toggleable__label-arrow:before {content: \"▸\";float: left;margin-right: 0.25em;color: #696969;}#sk-container-id-1 label.sk-toggleable__label-arrow:hover:before {color: black;}#sk-container-id-1 div.sk-estimator:hover label.sk-toggleable__label-arrow:before {color: black;}#sk-container-id-1 div.sk-toggleable__content {max-height: 0;max-width: 0;overflow: hidden;text-align: left;background-color: #f0f8ff;}#sk-container-id-1 div.sk-toggleable__content pre {margin: 0.2em;color: black;border-radius: 0.25em;background-color: #f0f8ff;}#sk-container-id-1 input.sk-toggleable__control:checked~div.sk-toggleable__content {max-height: 200px;max-width: 100%;overflow: auto;}#sk-container-id-1 input.sk-toggleable__control:checked~label.sk-toggleable__label-arrow:before {content: \"▾\";}#sk-container-id-1 div.sk-estimator input.sk-toggleable__control:checked~label.sk-toggleable__label {background-color: #d4ebff;}#sk-container-id-1 div.sk-label input.sk-toggleable__control:checked~label.sk-toggleable__label {background-color: #d4ebff;}#sk-container-id-1 input.sk-hidden--visually {border: 0;clip: rect(1px 1px 1px 1px);clip: rect(1px, 1px, 1px, 1px);height: 1px;margin: -1px;overflow: hidden;padding: 0;position: absolute;width: 1px;}#sk-container-id-1 div.sk-estimator {font-family: monospace;background-color: #f0f8ff;border: 1px dotted black;border-radius: 0.25em;box-sizing: border-box;margin-bottom: 0.5em;}#sk-container-id-1 div.sk-estimator:hover {background-color: #d4ebff;}#sk-container-id-1 div.sk-parallel-item::after {content: \"\";width: 100%;border-bottom: 1px solid gray;flex-grow: 1;}#sk-container-id-1 div.sk-label:hover label.sk-toggleable__label {background-color: #d4ebff;}#sk-container-id-1 div.sk-serial::before {content: \"\";position: absolute;border-left: 1px solid gray;box-sizing: border-box;top: 0;bottom: 0;left: 50%;z-index: 0;}#sk-container-id-1 div.sk-serial {display: flex;flex-direction: column;align-items: center;background-color: white;padding-right: 0.2em;padding-left: 0.2em;position: relative;}#sk-container-id-1 div.sk-item {position: relative;z-index: 1;}#sk-container-id-1 div.sk-parallel {display: flex;align-items: stretch;justify-content: center;background-color: white;position: relative;}#sk-container-id-1 div.sk-item::before, #sk-container-id-1 div.sk-parallel-item::before {content: \"\";position: absolute;border-left: 1px solid gray;box-sizing: border-box;top: 0;bottom: 0;left: 50%;z-index: -1;}#sk-container-id-1 div.sk-parallel-item {display: flex;flex-direction: column;z-index: 1;position: relative;background-color: white;}#sk-container-id-1 div.sk-parallel-item:first-child::after {align-self: flex-end;width: 50%;}#sk-container-id-1 div.sk-parallel-item:last-child::after {align-self: flex-start;width: 50%;}#sk-container-id-1 div.sk-parallel-item:only-child::after {width: 0;}#sk-container-id-1 div.sk-dashed-wrapped {border: 1px dashed gray;margin: 0 0.4em 0.5em 0.4em;box-sizing: border-box;padding-bottom: 0.4em;background-color: white;}#sk-container-id-1 div.sk-label label {font-family: monospace;font-weight: bold;display: inline-block;line-height: 1.2em;}#sk-container-id-1 div.sk-label-container {text-align: center;}#sk-container-id-1 div.sk-container {/* jupyter's `normalize.less` sets `[hidden] { display: none; }` but bootstrap.min.css set `[hidden] { display: none !important; }` so we also need the `!important` here to be able to override the default hidden behavior on the sphinx rendered scikit-learn.org. See: https://github.com/scikit-learn/scikit-learn/issues/21755 */display: inline-block !important;position: relative;}#sk-container-id-1 div.sk-text-repr-fallback {display: none;}</style><div id=\"sk-container-id-1\" class=\"sk-top-container\"><div class=\"sk-text-repr-fallback\"><pre>LogisticRegression(solver=&#x27;liblinear&#x27;)</pre><b>In a Jupyter environment, please rerun this cell to show the HTML representation or trust the notebook. <br />On GitHub, the HTML representation is unable to render, please try loading this page with nbviewer.org.</b></div><div class=\"sk-container\" hidden><div class=\"sk-item\"><div class=\"sk-estimator sk-toggleable\"><input class=\"sk-toggleable__control sk-hidden--visually\" id=\"sk-estimator-id-1\" type=\"checkbox\" checked><label for=\"sk-estimator-id-1\" class=\"sk-toggleable__label sk-toggleable__label-arrow\">LogisticRegression</label><div class=\"sk-toggleable__content\"><pre>LogisticRegression(solver=&#x27;liblinear&#x27;)</pre></div></div></div></div></div>"
      ],
      "text/plain": [
       "LogisticRegression(solver='liblinear')"
      ]
     },
     "execution_count": 60,
     "metadata": {},
     "output_type": "execute_result"
    }
   ],
   "source": [
    "# Logistic Regression - Model Performance\n",
    "from sklearn.linear_model import LogisticRegression\n",
    "from sklearn import metrics\n",
    "\n",
    "logit = LogisticRegression(solver='liblinear')\n",
    "logit.fit(X_train, y_train)"
   ]
  },
  {
   "cell_type": "markdown",
   "metadata": {},
   "source": [
    "Making sure our test sample contains only the significant features previously identified and used in the training sample:"
   ]
  },
  {
   "cell_type": "code",
   "execution_count": 61,
   "metadata": {},
   "outputs": [
    {
     "name": "stdout",
     "output_type": "stream",
     "text": [
      "Accuracy of Logistic Regression classifier on test set: 0.63\n"
     ]
    }
   ],
   "source": [
    "features = list(X_train.columns.values)\n",
    "X_test = X_test[features]\n",
    "print('Accuracy of Logistic Regression classifier on test set: {:.2f}'\\\n",
    "      .format(logit.score(X_test, y_test)))"
   ]
  },
  {
   "cell_type": "markdown",
   "metadata": {},
   "source": [
    "Now let's evaluate **precision** and **recall** based on the *Confusion Matrix*:"
   ]
  },
  {
   "cell_type": "code",
   "execution_count": 62,
   "metadata": {},
   "outputs": [
    {
     "name": "stdout",
     "output_type": "stream",
     "text": [
      "[[ 4411  2217]\n",
      " [10093 16434]]\n"
     ]
    }
   ],
   "source": [
    "from sklearn.metrics import confusion_matrix\n",
    "\n",
    "y_pred = logit.predict(X_test)\n",
    "\n",
    "confusion_matrix = confusion_matrix(y_test, y_pred)\n",
    "print(confusion_matrix)"
   ]
  },
  {
   "cell_type": "markdown",
   "metadata": {},
   "source": [
    "| Response | Predicted NO | Predicted YES |\n",
    "| --- | --- | --- |\n",
    "| Actual NO | 4,411 | 2,217 |\n",
    "| Actual YES | 10,093 | 16,434 |\n",
    "\n",
    "The result is telling us that we have **4,411 + 16,434 = 20,845** correct predictions (True Positives + True Negatives) and **2,217 + 10,093 = 12,310** incorrect predictions (False Positives + False Negatives)\n"
   ]
  },
  {
   "cell_type": "markdown",
   "metadata": {},
   "source": [
    "As described in Scikit Learn:\n",
    "\n",
    "The **precision** is the ratio tp / (tp + fp) where tp is the number of true positives and fp the number of false positives. It can be understood as the proportion of correct predictions over all predictions made for each outcome (Yes/No).\n",
    "\n",
    "The **recall** is the ratio tp / (tp + fn) where tp is the number of true positives and fn the number of false negatives. It can be understood as the proportion of correct predictions over the total number of occurrences of each known outcome (Yes/No).\n",
    "\n",
    "recall is intuitively the ability of the classifier to find all the positive samples.\n",
    "\n",
    "The **F-beta** score can be interpreted as a weighted harmonic mean of the precision and recall, where an F-beta score reaches its best value at 1 and worst score at 0.\n",
    "\n",
    "The F-beta score weights the recall more than the precision by a factor of beta. beta = 1.0 means recall and precision are equally important.\n",
    "\n",
    "The **support** is the number of occurrences of each class in y_test."
   ]
  },
  {
   "cell_type": "code",
   "execution_count": 63,
   "metadata": {},
   "outputs": [
    {
     "name": "stdout",
     "output_type": "stream",
     "text": [
      "              precision    recall  f1-score   support\n",
      "\n",
      "           0       0.30      0.67      0.42      6628\n",
      "           1       0.88      0.62      0.73     26527\n",
      "\n",
      "    accuracy                           0.63     33155\n",
      "   macro avg       0.59      0.64      0.57     33155\n",
      "weighted avg       0.77      0.63      0.67     33155\n",
      "\n"
     ]
    }
   ],
   "source": [
    "from sklearn.metrics import classification_report\n",
    "print(classification_report(y_test, y_pred))"
   ]
  },
  {
   "cell_type": "markdown",
   "metadata": {},
   "source": [
    "We can interpret that our model is quite pessimistic, making several predictions that a patient would NOT show up for their appointment, but only getting it right 30% of the time. By contrast, the model doesn't make as much positive predictions as it should - since the vast majority of outcomes in the testing sample is positive. This suggests the synthetic generated observations in our training sample (in order to balance the classes) actually protected the model from overfitting.\n",
    "\n",
    "Overall, the Logistic model predicts the right outcome 63% of the time ($\\frac{TP + TN}{Total}$)."
   ]
  },
  {
   "cell_type": "markdown",
   "metadata": {},
   "source": [
    "<a id='conclusions'></a>\n",
    "## Conclusions"
   ]
  },
  {
   "cell_type": "markdown",
   "metadata": {},
   "source": [
    "After thoroughly investigating all the research questions, we were able to identify that some features seems to actually impact the likelihood of a patient attending the appointment scheduled. To be more specific, some particular groups of those features showed an attendance rate different than the other groups and/or the overall average.\n",
    "> Although, it is important to highlight that, without the proper statistical testing, we cannot ascertain with statistical significance there is indeed a correlation between the features and the attendance rate. \n",
    "\n",
    ">This descriptive statistical analysis allow us to identify features with possible correlation to the dependent variable - which would be interesting to further investigate using hypothesis testing and/or regression models.\n",
    "\n",
    "Here is a summary of the initial findings:\n",
    "+ Gender does not seem to have any impact with the attendance rate;\n",
    "+ Age groups:\n",
    "    - **Less than 5 years and over 45 years old**: seems to be more likely to show up\n",
    "    - **Between 5 and 45 years old**: seems to be less likely to show up\n",
    "+ Date difference between appointment and when it was scheduled:\n",
    "    - **Appointments scheduled up to 4 days in advance**: seems to be more likely to show up\n",
    "    - **Appointments scheduled more than 7 days in advance**: less likely to attend\n",
    "+ Neighborhood groups:\n",
    "    - **Group 1** (Jardim Camburi,  Jardim da Penha, Santa Martha): seems to be more likely to show up\n",
    "    - **Group 2** (Itararé, Jesus de Nazareth, Santos Dumont): seems to be less likely to show up\n",
    "+ Patients receiving Scholarship (Bolsa Familia) are less likely to show up;\n",
    "+ Medical Conditions: patients suffering from alcoholism and diabetes seems to be slightly more likely to attend\n",
    "+ SMS reminder: even though there is evidence receiving an SMS reminder seems to make the patients less likely to show up, we should ignore this variable due to lack of explainability.\n",
    "\n",
    "<hr>\n",
    "After fitting a Logistic Regression model, we ended up with 12 best performing and statistically significant explanatory variables. Their coefficients have the correct expected signal, based on the initial analysis.\n",
    "\n",
    "According to the Odd's ratio analysis, we are able to rank the features based on their impact on the attendance rate:\n",
    "\n",
    "1. Appointments scheduled less than 4 days in advance are 2.3 times more likely to attend;\n",
    "2. Patients between the ages of 13 and 21 years old were 1.6 times <u>less likely</u> to show up;\n",
    "3. Tied in third place being 1.5 times less likely to show up:\n",
    "    - <mark>Appointments scheduled more than 7 days in advance</mark>\n",
    "    - <mark>Patients between the ages of 21 and 30 years</mark>\n",
    "4. Patients wwithin the ages of 5 to 13 years were 1.4 times <u>less likely</u> to show up;\n",
    "   - Patients residing in one of the neighborhoods in **Group 2** *(Jesus de Nazareth, Itarare, Santos Dumont)*\n",
    "\n",
    "5. Tied in fifth place being 1.3 times more likely to show up:\n",
    "    - <mark> - Patients residing in one of the neighborhoods in **Group 2** *(Jesus de Nazareth, Itarare, Santos Dumont)*</mark>\n",
    "    - <mark>Patients between age 37 and 45 years </mark>\n",
    "    \n",
    "6. Tied in sixth place, being 1.2 times <u>less likely</u> to show up:\n",
    "    - Patients participating in the governmental assistance program (scholarship: *Bolsa Familia*)\n",
    "    - Patients with diabetes\n",
    "    - Patients between the ages of 30 to 37 years\n",
    "7. Tied in seventh place, being 1.1 times more likely to show up to their scheduled appointment:\n",
    "    - Patients residing in one of the neighborhoods in **Group 1** *(Santa Martha, Jardim da Penha, Vila Rubim)* are 1.1 times more likely  to attend.\n",
    "    - <mark>Patients between 59 and 68 years old</mark>\n",
    "    - <mark>Patients between 68 and 102 years old</mark>\n",
    "\n",
    "It is possible to see the highlighted variables actually have a similar impact. These age groups could be merged together and the dummy variable would still be able to capture its influence.\n",
    "\n",
    "The final Logistic model is quite pessimistic, making several predictions that a patient would NOT show up for their appointment, but only getting it right 30% of the time. By contrast, the model doesn't make as much positive predictions as it should - since the vast majority of outcomes in the testing sample is positive. \n",
    "\n",
    "Interestingly, this suggests the synthetic generated observations in our training sample (in order to balance the classes) did indeed protect the model from overfitting. This seem to be a good approach for handling datasets with unbalanced classes.\n",
    "\n",
    "Overall, the Logistic model predicts the right outcome 63% of the time ($\\frac{TP + TN}{Total}$). Which is better than flipping a coin, but still has room for improvement before it can be considered useful.\n",
    "\n",
    "### Recommendation for Future Research\n",
    "The advantage of using a Logistic Regression model is it's explanatory power: it allows for interesting inference capabilities such as Odd's Ratio and Elasticity analysis. Although it lacks prediction accuracy power.\n",
    "\n",
    "For this particular case study, the inference power of the Logit model is rendered useless, since the doctors cannot control the characteristics of their patients. Their main goal is to accurately predict whether or not a patient is going to show up for their scheduled appointment.\n",
    "\n",
    "Therefore, it would be interesting to fit the data using more advanced methods, such as Naive Bayes, Support Vector Machine (SVM), Boosting, Random Forest, and even Artificial Neural Network. "
   ]
  },
  {
   "cell_type": "code",
   "execution_count": null,
   "metadata": {},
   "outputs": [],
   "source": []
  }
 ],
 "metadata": {
  "kernelspec": {
   "display_name": "Python 3 (ipykernel)",
   "language": "python",
   "name": "python3"
  },
  "language_info": {
   "codemirror_mode": {
    "name": "ipython",
    "version": 3
   },
   "file_extension": ".py",
   "mimetype": "text/x-python",
   "name": "python",
   "nbconvert_exporter": "python",
   "pygments_lexer": "ipython3",
   "version": "3.9.12"
  },
  "varInspector": {
   "cols": {
    "lenName": 16,
    "lenType": 16,
    "lenVar": 40
   },
   "kernels_config": {
    "python": {
     "delete_cmd_postfix": "",
     "delete_cmd_prefix": "del ",
     "library": "var_list.py",
     "varRefreshCmd": "print(var_dic_list())"
    },
    "r": {
     "delete_cmd_postfix": ") ",
     "delete_cmd_prefix": "rm(",
     "library": "var_list.r",
     "varRefreshCmd": "cat(var_dic_list()) "
    }
   },
   "types_to_exclude": [
    "module",
    "function",
    "builtin_function_or_method",
    "instance",
    "_Feature"
   ],
   "window_display": false
  }
 },
 "nbformat": 4,
 "nbformat_minor": 4
}
